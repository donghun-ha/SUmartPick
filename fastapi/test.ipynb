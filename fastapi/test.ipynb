{
 "cells": [
  {
   "cell_type": "code",
   "execution_count": 10,
   "metadata": {},
   "outputs": [],
   "source": [
    "# import pandas as pd\n",
    "# import pymysql"
   ]
  },
  {
   "cell_type": "code",
   "execution_count": 15,
   "metadata": {},
   "outputs": [],
   "source": [
    "# from hosts import connect_to_mysql"
   ]
  },
  {
   "cell_type": "code",
   "execution_count": 17,
   "metadata": {},
   "outputs": [],
   "source": [
    "\n",
    "\n",
    "import random\n",
    "import pandas as pd\n",
    "\n",
    "corr_matrix = pd.read_csv('../analysis/model/category.csv', index_col=0)\n",
    "\n",
    "def connect():\n",
    "    conn = pymysql.connect(\n",
    "        host = \"43.202.97.15\", \n",
    "        user = \"sumartpick\",\n",
    "        password = \"qwer1234\",\n",
    "        db = \"sumartpick\",\n",
    "        charset= 'utf8'\n",
    "    )\n",
    "    return conn\n",
    "\n",
    "\"\"\"\n",
    "📌 추천상품 불러오기 api\n",
    "- 유저의 활동 내역을 기반으로(없으면 전체 주문을 기반으로) 자동으로 상품을 추천해줌\n",
    "- 먼저 id를 통해 이전 구매중 가장 많이 구매한 Category를 가져오고 (1번 sql)\n",
    "- 머신러닝을 통해 가져온 corr_matrix에서 관련있는 카테고리 총 10개를 가져옴(2번 과정, 카테고리는 중복 가능)\n",
    "- 관련 카테고리들 중에서 리뷰 많은 순으로 10개를 랜덤으로 가져옴(3번 과정)\n",
    "Returns:\n",
    "- `results`: 상품 목록 (JSON)\n",
    "\"\"\"\n",
    "conn = connect()\n",
    "curs = conn.cursor(pymysql.cursors.DictCursor)  # ✅ DictCursor 사용 (딕셔너리 변환)\n",
    "\n",
    "# id = 'apple-987654321' ### 시험용\n",
    "\n",
    "#### 2번과정에 쓸 카테고리 랜덤추출용 함수\n",
    "def recommend_maker(input_category):\n",
    "    column = input_category\n",
    "    positive_columns =  corr_matrix[(corr_matrix[column] > 0) & (corr_matrix[column] !=1.0) ][column]\n",
    "    positive_columns =  corr_matrix[(corr_matrix[column] > 0)][column]\n",
    "    category_cumsum =  (positive_columns/positive_columns.sum()).sort_values().cumsum()\n",
    "\n",
    "    num = random.random()\n",
    "    for idx, value in enumerate(category_cumsum):\n",
    "        if num < value:\n",
    "            output_category = category_cumsum.index[idx]\n",
    "            break\n",
    "\n",
    "    return output_category\n",
    "\n",
    "### 1번 과정 : ifnull을 통해서 내가, 혹은 남들이 가장 많이 산 카테고리를 가져옴\n",
    "try:\n",
    "    sql = f\"\"\"\n",
    "    SELECT IFNULL(\n",
    "        (SELECT P.Category_ID\n",
    "        FROM orders AS O\n",
    "        INNER JOIN products AS P ON P.Product_ID = O.Product_ID\n",
    "        WHERE User_id = \"{id}\"\n",
    "        ORDER BY O.Order_date DESC\n",
    "        LIMIT 1),\n",
    "        \n",
    "        (WITH CategoryCounts AS (\n",
    "            SELECT P.Category_ID, COUNT(*) AS count\n",
    "            FROM orders AS O\n",
    "            INNER JOIN products AS P ON P.Product_ID = O.Product_ID\n",
    "            GROUP BY P.Category_ID\n",
    "        )\n",
    "        SELECT Category_ID\n",
    "        FROM CategoryCounts\n",
    "        WHERE count = (SELECT MAX(count) FROM CategoryCounts)\n",
    "        LIMIT 1)  -- 여러 개일 경우 하나만 반환\n",
    "    ) AS Category_ID\n",
    "    \"\"\"\n",
    "    \n",
    "    curs.execute(sql)\n",
    "    my_category = curs.fetchall()[0]['Category_ID']\n",
    "\n",
    "    \n",
    "\n",
    "except Exception as e:\n",
    "    print(f\"❌ 카테고리 가져오기 실패: {e}\")\n",
    "\n",
    "finally:\n",
    "    curs.close()\n",
    "    conn.close() \n",
    "\n",
    "#### 2번과정 : 머신러닝을 통해 얻은 상관관계도를 통해서 관련있는 카테고리 10개 임의추출\n",
    "recommend_dict = {}\n",
    "\n",
    "for i in range(10):\n",
    "    my_column = str(my_category)\n",
    "    column = recommend_maker(my_column)\n",
    "    if column not in recommend_dict.keys():\n",
    "        recommend_dict[column] = 1\n",
    "    else:\n",
    "        recommend_dict[column] +=1\n",
    "\n",
    "# value를 기준으로 내림차순 정렬\n",
    "sorted_keys = sorted(recommend_dict, key=recommend_dict.get, reverse=True)\n",
    "\n",
    "\n",
    "#### 3번과정 : 2번을 통해 얻은 카테고리만큼의 갯수의 랜덤상품을 리뷰 많은 순으로 정리\n",
    "sqls = []\n",
    "for key in sorted_keys:\n",
    "    temp_sql = f\"\"\"\n",
    "    (SELECT \n",
    "        P.Product_ID AS Product_ID , \n",
    "        P.name AS name, \n",
    "        P.preview_image AS preview_image, \n",
    "        P.price AS price, \n",
    "        P.detail AS detail, \n",
    "        C.name AS category,\n",
    "        P.created AS created,\n",
    "        COUNT(R.Product_ID) AS review_count\n",
    "    FROM products AS P\n",
    "    INNER JOIN category AS C ON C.Category_ID = P.Category_ID\n",
    "    INNER JOIN reviews AS R ON R.Product_ID = P.Product_ID\n",
    "    WHERE P.Category_ID = {key}\n",
    "    GROUP BY P.Product_ID\n",
    "    ORDER BY COUNT(R.Product_ID) DESC, RAND()\n",
    "    LIMIT {recommend_dict[key]})\n",
    "    \"\"\"\n",
    "    sqls.append(temp_sql)\n",
    "\n",
    "\n",
    "sql1 = \"\"\"\n",
    "    SELECT \n",
    "        Product_ID,\n",
    "        name,\n",
    "        preview_image,\n",
    "        price,\n",
    "        detail,\n",
    "        category,\n",
    "        created\n",
    "    FROM (\\n\"\"\"\n",
    "sql2 =  '\\nUNION ALL\\n'.join(sqls)\n",
    "sql3 = \") AS CombinedResults\\nORDER BY review_count DESC, RAND()\"\n",
    "\n",
    "sql = sql1 + sql2 + sql3 \n",
    "\n",
    "\n",
    "conn = connect()\n",
    "curs = conn.cursor(pymysql.cursors.DictCursor)  # ✅ DictCursor 사용 (딕셔너리 변환)\n",
    "try:\n",
    "    \n",
    "    curs.execute(sql)\n",
    "    rows = curs.fetchall()\n",
    "\n",
    "except Exception as e:\n",
    "    print(f\"❌ 상품 조회 실패: {e}\")\n",
    "\n",
    "finally:\n",
    "    curs.close()\n",
    "    conn.close()  # ✅ DB 연결 종료 보장\n"
   ]
  },
  {
   "cell_type": "code",
   "execution_count": 19,
   "metadata": {},
   "outputs": [
    {
     "name": "stdout",
     "output_type": "stream",
     "text": [
      "2.2.2\n"
     ]
    }
   ],
   "source": [
    "import pandas as pd\n",
    "print(pd.__version__)"
   ]
  },
  {
   "cell_type": "code",
   "execution_count": 15,
   "metadata": {},
   "outputs": [],
   "source": [
    "order_id = 14\n",
    "\n",
    "conn = connect()\n",
    "curs = conn.cursor(pymysql.cursors.DictCursor)\n",
    "\n",
    "sql = f\"\"\"\n",
    "    select *\n",
    "    from orders as o\n",
    "    JOIN products p ON p.Product_ID = o.Product_ID\n",
    "    WHERE o.order_id = {order_id}\n",
    "    \"\"\"\n",
    "curs.execute(sql)\n",
    "\n",
    "orders = curs.fetchall()\n",
    "conn.close()\n",
    "\n"
   ]
  },
  {
   "cell_type": "code",
   "execution_count": 17,
   "metadata": {},
   "outputs": [
    {
     "data": {
      "text/plain": [
       "25900.0"
      ]
     },
     "execution_count": 17,
     "metadata": {},
     "output_type": "execute_result"
    }
   ],
   "source": []
  },
  {
   "cell_type": "code",
   "execution_count": 29,
   "metadata": {},
   "outputs": [
    {
     "name": "stdout",
     "output_type": "stream",
     "text": [
      "109956079829900132974957416630108495284\n"
     ]
    }
   ],
   "source": [
    "import hashlib\n",
    "\n",
    "def text_to_number(text):\n",
    "    hash_object = hashlib.md5(text.encode('utf-8'))  # MD5 해시 생성\n",
    "    return int(hash_object.hexdigest(), 16)  # 16진수를 10진수 정수로 변환\n",
    "\n",
    "print(text_to_number(\"한글\"))  # 항상 같은 숫자 출력\n"
   ]
  },
  {
   "cell_type": "code",
   "execution_count": 33,
   "metadata": {},
   "outputs": [
    {
     "data": {
      "text/plain": [
       "187539349511390353719709902587432578276"
      ]
     },
     "execution_count": 33,
     "metadata": {},
     "output_type": "execute_result"
    }
   ],
   "source": [
    "orders[0]['Address']"
   ]
  },
  {
   "cell_type": "code",
   "execution_count": 41,
   "metadata": {},
   "outputs": [
    {
     "data": {
      "text/plain": [
       "2"
      ]
     },
     "execution_count": 41,
     "metadata": {},
     "output_type": "execute_result"
    }
   ],
   "source": [
    "import pymysql\n",
    "import pandas as pd\n",
    "import hashlib\n",
    "\n",
    "\n",
    "def connect():\n",
    "    conn = pymysql.connect(\n",
    "        host = \"43.202.97.15\", \n",
    "        user = \"sumartpick\",\n",
    "        password = \"qwer1234\",\n",
    "        db = \"sumartpick\",\n",
    "        charset= 'utf8'\n",
    "    )\n",
    "    return conn\n",
    "\n",
    "def text_to_number(text):\n",
    "    hash_object = hashlib.md5(text.encode('utf-8'))  # MD5 해시 생성\n",
    "    return int(hash_object.hexdigest(), 16)  # 16진수를 10진수 정수로 변환\n",
    "\n",
    "import joblib\n",
    "loaded_rf = joblib.load('best_random_forest_model.pkl')\n",
    "\n",
    "\n",
    "\n",
    "customer_city_parser =  pd.read_csv('customer_city_parser.csv', index_col=0)\n",
    "seller_id_parser =  pd.read_csv('seller_id_parser.csv', index_col=0)\n",
    "train =  pd.read_csv('time_train.csv', index_col=0)\n",
    "\n",
    "dist_idx = text_to_number(orders[0]['Address']) % train.shape[0]\n",
    "dist = train['dist'].iloc[dist_idx]\n",
    "\n",
    "order_id = 14\n",
    "\n",
    "\n",
    "conn = connect()\n",
    "curs = conn.cursor(pymysql.cursors.DictCursor)\n",
    "\n",
    "sql = f\"\"\"\n",
    "    select *\n",
    "    from orders as o\n",
    "    JOIN products p ON p.Product_ID = o.Product_ID\n",
    "    WHERE o.order_id = {order_id}\n",
    "    \"\"\"\n",
    "curs.execute(sql)\n",
    "\n",
    "orders = curs.fetchall()\n",
    "conn.close()\n",
    "\n",
    "product_id = orders[0]['Product_ID']\n",
    "raw_price = orders[0]['price']\n",
    "\n",
    "conn = connect()\n",
    "curs = conn.cursor()\n",
    "\n",
    "sql = f\"\"\"\n",
    "    SELECT\n",
    "        AVG(price) AS avg_price,  -- 평균\n",
    "        STDDEV(price) AS std_price  -- 표준편차\n",
    "    FROM products;\n",
    "\"\"\"\n",
    "curs.execute(sql)\n",
    "\n",
    "av_std_rows = curs.fetchall()\n",
    "conn.close()\n",
    "# print(av_std_rows)\n",
    "\n",
    "your_mean = 1756.1477912569826\n",
    "\n",
    "your_std = 3908.8645767822213\n",
    "your_min = 5.2 \n",
    "\n",
    "our_mean =  av_std_rows[0][0]\n",
    "our_std = av_std_rows[0][1]\n",
    "\n",
    "\n",
    "price = max(((raw_price - our_mean)/our_std *your_std) + your_mean, 5.2)\n",
    "\n",
    "\n",
    "customer_city_mean = train['customer_city_mean'].iloc[dist_idx]\n",
    "seller_id_mean =  seller_id_parser.loc['6edacfd9f9074789dad6d62ba7950b9c'].item()\n",
    "\n",
    "pred =  pd.DataFrame(\n",
    "    {\n",
    "        'price' : [price],\n",
    "        'dist' : [dist],\n",
    "        'seller_id_mean' : [seller_id_mean],\n",
    "        'customer_city_mean' : [customer_city_mean],\n",
    "    }\n",
    ")\n",
    "\n",
    "\n",
    "loaded_rf.predict(pred).item()\n"
   ]
  },
  {
   "cell_type": "code",
   "execution_count": null,
   "metadata": {},
   "outputs": [],
   "source": []
  }
 ],
 "metadata": {
  "kernelspec": {
   "display_name": "tjAka",
   "language": "python",
   "name": "python3"
  },
  "language_info": {
   "codemirror_mode": {
    "name": "ipython",
    "version": 3
   },
   "file_extension": ".py",
   "mimetype": "text/x-python",
   "name": "python",
   "nbconvert_exporter": "python",
   "pygments_lexer": "ipython3",
   "version": "3.12.7"
  }
 },
 "nbformat": 4,
 "nbformat_minor": 2
}
