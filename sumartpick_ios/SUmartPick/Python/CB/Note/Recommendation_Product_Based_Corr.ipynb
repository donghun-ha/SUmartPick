{
 "cells": [
  {
   "cell_type": "markdown",
   "metadata": {},
   "source": [
    "# Creating a Product based Recommender System with the help of Correlation."
   ]
  },
  {
   "cell_type": "code",
   "execution_count": 2,
   "metadata": {},
   "outputs": [],
   "source": [
    "import pandas as pd\n",
    "import numpy as np"
   ]
  },
  {
   "cell_type": "code",
   "execution_count": 3,
   "metadata": {},
   "outputs": [],
   "source": [
    "combined=pd.read_csv(\"Combined.csv\")"
   ]
  },
  {
   "cell_type": "code",
   "execution_count": 4,
   "metadata": {},
   "outputs": [
    {
     "data": {
      "text/html": [
       "<div>\n",
       "<style scoped>\n",
       "    .dataframe tbody tr th:only-of-type {\n",
       "        vertical-align: middle;\n",
       "    }\n",
       "\n",
       "    .dataframe tbody tr th {\n",
       "        vertical-align: top;\n",
       "    }\n",
       "\n",
       "    .dataframe thead th {\n",
       "        text-align: right;\n",
       "    }\n",
       "</style>\n",
       "<table border=\"1\" class=\"dataframe\">\n",
       "  <thead>\n",
       "    <tr style=\"text-align: right;\">\n",
       "      <th></th>\n",
       "      <th>Unnamed: 0</th>\n",
       "      <th>order_id</th>\n",
       "      <th>customer_unique_id</th>\n",
       "      <th>order_purchase_timestamp</th>\n",
       "      <th>order_approved_at</th>\n",
       "      <th>order_delivered_carrier_date</th>\n",
       "      <th>order_delivered_customer_date</th>\n",
       "      <th>order_estimated_delivery_date</th>\n",
       "      <th>order_item_id</th>\n",
       "      <th>product_id</th>\n",
       "      <th>...</th>\n",
       "      <th>seller_lat</th>\n",
       "      <th>seller_lng</th>\n",
       "      <th>customer_city</th>\n",
       "      <th>customer_state</th>\n",
       "      <th>customer_lat</th>\n",
       "      <th>customer_lng</th>\n",
       "      <th>order_delivered_customer_time</th>\n",
       "      <th>dist</th>\n",
       "      <th>product_category_name_english</th>\n",
       "      <th>review_score</th>\n",
       "    </tr>\n",
       "  </thead>\n",
       "  <tbody>\n",
       "    <tr>\n",
       "      <th>0</th>\n",
       "      <td>0</td>\n",
       "      <td>00010242fe8c5a6d1ba2dd792cb16214</td>\n",
       "      <td>3ce436f183e68e07877b285a838db11a</td>\n",
       "      <td>2017-09-13 08:59:02</td>\n",
       "      <td>2017-09-13 09:45:35</td>\n",
       "      <td>2017-09-19 18:34:16</td>\n",
       "      <td>2017-09-20 23:43:48</td>\n",
       "      <td>2017-09-29</td>\n",
       "      <td>1.0</td>\n",
       "      <td>4244733e06e7ecb4970a6e2683c13e61</td>\n",
       "      <td>...</td>\n",
       "      <td>-22.498183</td>\n",
       "      <td>-44.123614</td>\n",
       "      <td>campos dos goytacazes</td>\n",
       "      <td>RJ</td>\n",
       "      <td>-21.758076</td>\n",
       "      <td>-41.312633</td>\n",
       "      <td>104972</td>\n",
       "      <td>301.005664</td>\n",
       "      <td>기타</td>\n",
       "      <td>5.0</td>\n",
       "    </tr>\n",
       "    <tr>\n",
       "      <th>1</th>\n",
       "      <td>1</td>\n",
       "      <td>00018f77f2f0320c557190d7a144bdd3</td>\n",
       "      <td>f6dd3ec061db4e3987629fe6b26e5cce</td>\n",
       "      <td>2017-04-26 10:53:06</td>\n",
       "      <td>2017-04-26 11:05:13</td>\n",
       "      <td>2017-05-04 14:35:00</td>\n",
       "      <td>2017-05-12 16:04:24</td>\n",
       "      <td>2017-05-15</td>\n",
       "      <td>1.0</td>\n",
       "      <td>e5f2d52b802189ee658865ca93d83a8f</td>\n",
       "      <td>...</td>\n",
       "      <td>-23.566258</td>\n",
       "      <td>-46.518417</td>\n",
       "      <td>santa fe do sul</td>\n",
       "      <td>SP</td>\n",
       "      <td>-20.212393</td>\n",
       "      <td>-50.941471</td>\n",
       "      <td>696564</td>\n",
       "      <td>589.274140</td>\n",
       "      <td>유아/애완용품</td>\n",
       "      <td>4.0</td>\n",
       "    </tr>\n",
       "    <tr>\n",
       "      <th>2</th>\n",
       "      <td>2</td>\n",
       "      <td>000229ec398224ef6ca0657da4fc703e</td>\n",
       "      <td>6489ae5e4333f3693df5ad4372dab6d3</td>\n",
       "      <td>2018-01-14 14:33:31</td>\n",
       "      <td>2018-01-14 14:48:30</td>\n",
       "      <td>2018-01-16 12:36:48</td>\n",
       "      <td>2018-01-22 13:19:16</td>\n",
       "      <td>2018-02-05</td>\n",
       "      <td>1.0</td>\n",
       "      <td>c777355d18b72b67abbeef9df44fd0fd</td>\n",
       "      <td>...</td>\n",
       "      <td>-22.264094</td>\n",
       "      <td>-46.158564</td>\n",
       "      <td>para de minas</td>\n",
       "      <td>MG</td>\n",
       "      <td>-19.860439</td>\n",
       "      <td>-44.597972</td>\n",
       "      <td>520948</td>\n",
       "      <td>312.495046</td>\n",
       "      <td>가구/인테리어</td>\n",
       "      <td>5.0</td>\n",
       "    </tr>\n",
       "    <tr>\n",
       "      <th>3</th>\n",
       "      <td>3</td>\n",
       "      <td>00024acbcdf0a6daa1e931b038114c75</td>\n",
       "      <td>d4eb9395c8c0431ee92fce09860c5a06</td>\n",
       "      <td>2018-08-08 10:00:35</td>\n",
       "      <td>2018-08-08 10:10:18</td>\n",
       "      <td>2018-08-10 13:28:00</td>\n",
       "      <td>2018-08-14 13:32:39</td>\n",
       "      <td>2018-08-20</td>\n",
       "      <td>1.0</td>\n",
       "      <td>7634da152a4610f1595efa32f14722fc</td>\n",
       "      <td>...</td>\n",
       "      <td>-20.548228</td>\n",
       "      <td>-47.395897</td>\n",
       "      <td>atibaia</td>\n",
       "      <td>SP</td>\n",
       "      <td>-23.144923</td>\n",
       "      <td>-46.539830</td>\n",
       "      <td>345879</td>\n",
       "      <td>301.951753</td>\n",
       "      <td>뷰티/건강</td>\n",
       "      <td>4.0</td>\n",
       "    </tr>\n",
       "    <tr>\n",
       "      <th>4</th>\n",
       "      <td>4</td>\n",
       "      <td>00042b26cf59d7ce69dfabb4e55b4fd9</td>\n",
       "      <td>58dbd0b2d70206bf40e62cd34e84d795</td>\n",
       "      <td>2017-02-04 13:57:51</td>\n",
       "      <td>2017-02-04 14:10:13</td>\n",
       "      <td>2017-02-16 09:46:09</td>\n",
       "      <td>2017-03-01 16:42:31</td>\n",
       "      <td>2017-03-17</td>\n",
       "      <td>1.0</td>\n",
       "      <td>ac6c3623068f30de03045865e4e10089</td>\n",
       "      <td>...</td>\n",
       "      <td>-22.931427</td>\n",
       "      <td>-53.133759</td>\n",
       "      <td>varzea paulista</td>\n",
       "      <td>SP</td>\n",
       "      <td>-23.249008</td>\n",
       "      <td>-46.824961</td>\n",
       "      <td>1148182</td>\n",
       "      <td>646.221788</td>\n",
       "      <td>가구/인테리어</td>\n",
       "      <td>5.0</td>\n",
       "    </tr>\n",
       "  </tbody>\n",
       "</table>\n",
       "<p>5 rows × 29 columns</p>\n",
       "</div>"
      ],
      "text/plain": [
       "   Unnamed: 0                          order_id  \\\n",
       "0           0  00010242fe8c5a6d1ba2dd792cb16214   \n",
       "1           1  00018f77f2f0320c557190d7a144bdd3   \n",
       "2           2  000229ec398224ef6ca0657da4fc703e   \n",
       "3           3  00024acbcdf0a6daa1e931b038114c75   \n",
       "4           4  00042b26cf59d7ce69dfabb4e55b4fd9   \n",
       "\n",
       "                 customer_unique_id order_purchase_timestamp  \\\n",
       "0  3ce436f183e68e07877b285a838db11a      2017-09-13 08:59:02   \n",
       "1  f6dd3ec061db4e3987629fe6b26e5cce      2017-04-26 10:53:06   \n",
       "2  6489ae5e4333f3693df5ad4372dab6d3      2018-01-14 14:33:31   \n",
       "3  d4eb9395c8c0431ee92fce09860c5a06      2018-08-08 10:00:35   \n",
       "4  58dbd0b2d70206bf40e62cd34e84d795      2017-02-04 13:57:51   \n",
       "\n",
       "     order_approved_at order_delivered_carrier_date  \\\n",
       "0  2017-09-13 09:45:35          2017-09-19 18:34:16   \n",
       "1  2017-04-26 11:05:13          2017-05-04 14:35:00   \n",
       "2  2018-01-14 14:48:30          2018-01-16 12:36:48   \n",
       "3  2018-08-08 10:10:18          2018-08-10 13:28:00   \n",
       "4  2017-02-04 14:10:13          2017-02-16 09:46:09   \n",
       "\n",
       "  order_delivered_customer_date order_estimated_delivery_date  order_item_id  \\\n",
       "0           2017-09-20 23:43:48                    2017-09-29            1.0   \n",
       "1           2017-05-12 16:04:24                    2017-05-15            1.0   \n",
       "2           2018-01-22 13:19:16                    2018-02-05            1.0   \n",
       "3           2018-08-14 13:32:39                    2018-08-20            1.0   \n",
       "4           2017-03-01 16:42:31                    2017-03-17            1.0   \n",
       "\n",
       "                         product_id  ... seller_lat  seller_lng  \\\n",
       "0  4244733e06e7ecb4970a6e2683c13e61  ... -22.498183  -44.123614   \n",
       "1  e5f2d52b802189ee658865ca93d83a8f  ... -23.566258  -46.518417   \n",
       "2  c777355d18b72b67abbeef9df44fd0fd  ... -22.264094  -46.158564   \n",
       "3  7634da152a4610f1595efa32f14722fc  ... -20.548228  -47.395897   \n",
       "4  ac6c3623068f30de03045865e4e10089  ... -22.931427  -53.133759   \n",
       "\n",
       "           customer_city  customer_state  customer_lat  customer_lng  \\\n",
       "0  campos dos goytacazes              RJ    -21.758076    -41.312633   \n",
       "1        santa fe do sul              SP    -20.212393    -50.941471   \n",
       "2          para de minas              MG    -19.860439    -44.597972   \n",
       "3                atibaia              SP    -23.144923    -46.539830   \n",
       "4        varzea paulista              SP    -23.249008    -46.824961   \n",
       "\n",
       "   order_delivered_customer_time        dist product_category_name_english  \\\n",
       "0                         104972  301.005664                            기타   \n",
       "1                         696564  589.274140                       유아/애완용품   \n",
       "2                         520948  312.495046                       가구/인테리어   \n",
       "3                         345879  301.951753                         뷰티/건강   \n",
       "4                        1148182  646.221788                       가구/인테리어   \n",
       "\n",
       "   review_score  \n",
       "0           5.0  \n",
       "1           4.0  \n",
       "2           5.0  \n",
       "3           4.0  \n",
       "4           5.0  \n",
       "\n",
       "[5 rows x 29 columns]"
      ]
     },
     "execution_count": 4,
     "metadata": {},
     "output_type": "execute_result"
    }
   ],
   "source": [
    "combined.head()"
   ]
  },
  {
   "cell_type": "code",
   "execution_count": 5,
   "metadata": {},
   "outputs": [
    {
     "data": {
      "text/plain": [
       "(84096, 29)"
      ]
     },
     "execution_count": 5,
     "metadata": {},
     "output_type": "execute_result"
    }
   ],
   "source": [
    "combined.shape"
   ]
  },
  {
   "cell_type": "code",
   "execution_count": 6,
   "metadata": {},
   "outputs": [],
   "source": [
    "df1=pd.read_csv(\"combined.csv\",usecols=['product_id','customer_unique_id','product_category_name_english','review_score'])"
   ]
  },
  {
   "cell_type": "code",
   "execution_count": 7,
   "metadata": {},
   "outputs": [
    {
     "data": {
      "text/html": [
       "<div>\n",
       "<style scoped>\n",
       "    .dataframe tbody tr th:only-of-type {\n",
       "        vertical-align: middle;\n",
       "    }\n",
       "\n",
       "    .dataframe tbody tr th {\n",
       "        vertical-align: top;\n",
       "    }\n",
       "\n",
       "    .dataframe thead th {\n",
       "        text-align: right;\n",
       "    }\n",
       "</style>\n",
       "<table border=\"1\" class=\"dataframe\">\n",
       "  <thead>\n",
       "    <tr style=\"text-align: right;\">\n",
       "      <th></th>\n",
       "      <th>customer_unique_id</th>\n",
       "      <th>product_id</th>\n",
       "      <th>product_category_name_english</th>\n",
       "      <th>review_score</th>\n",
       "    </tr>\n",
       "  </thead>\n",
       "  <tbody>\n",
       "    <tr>\n",
       "      <th>0</th>\n",
       "      <td>3ce436f183e68e07877b285a838db11a</td>\n",
       "      <td>4244733e06e7ecb4970a6e2683c13e61</td>\n",
       "      <td>기타</td>\n",
       "      <td>5.0</td>\n",
       "    </tr>\n",
       "    <tr>\n",
       "      <th>1</th>\n",
       "      <td>f6dd3ec061db4e3987629fe6b26e5cce</td>\n",
       "      <td>e5f2d52b802189ee658865ca93d83a8f</td>\n",
       "      <td>유아/애완용품</td>\n",
       "      <td>4.0</td>\n",
       "    </tr>\n",
       "    <tr>\n",
       "      <th>2</th>\n",
       "      <td>6489ae5e4333f3693df5ad4372dab6d3</td>\n",
       "      <td>c777355d18b72b67abbeef9df44fd0fd</td>\n",
       "      <td>가구/인테리어</td>\n",
       "      <td>5.0</td>\n",
       "    </tr>\n",
       "    <tr>\n",
       "      <th>3</th>\n",
       "      <td>d4eb9395c8c0431ee92fce09860c5a06</td>\n",
       "      <td>7634da152a4610f1595efa32f14722fc</td>\n",
       "      <td>뷰티/건강</td>\n",
       "      <td>4.0</td>\n",
       "    </tr>\n",
       "    <tr>\n",
       "      <th>4</th>\n",
       "      <td>58dbd0b2d70206bf40e62cd34e84d795</td>\n",
       "      <td>ac6c3623068f30de03045865e4e10089</td>\n",
       "      <td>가구/인테리어</td>\n",
       "      <td>5.0</td>\n",
       "    </tr>\n",
       "    <tr>\n",
       "      <th>...</th>\n",
       "      <td>...</td>\n",
       "      <td>...</td>\n",
       "      <td>...</td>\n",
       "      <td>...</td>\n",
       "    </tr>\n",
       "    <tr>\n",
       "      <th>84091</th>\n",
       "      <td>4d3abb73ceb86353aeadbe698aa9d5cb</td>\n",
       "      <td>43423cdffde7fda63d0414ed38c11a73</td>\n",
       "      <td>패션/액세서리</td>\n",
       "      <td>4.0</td>\n",
       "    </tr>\n",
       "    <tr>\n",
       "      <th>84092</th>\n",
       "      <td>11a0e041ea6e7e21856d2689b64e7f3a</td>\n",
       "      <td>6f0169f259bb0ff432bfff7d829b9946</td>\n",
       "      <td>기타</td>\n",
       "      <td>5.0</td>\n",
       "    </tr>\n",
       "    <tr>\n",
       "      <th>84093</th>\n",
       "      <td>84c5d4fbaf120aae381fad077416eaa0</td>\n",
       "      <td>32e07fd915822b0765e448c4dd74c828</td>\n",
       "      <td>전자제품/기술</td>\n",
       "      <td>5.0</td>\n",
       "    </tr>\n",
       "    <tr>\n",
       "      <th>84094</th>\n",
       "      <td>29309aa813182aaddc9b259e31b870e6</td>\n",
       "      <td>72a30483855e2eafc67aee5dc2560482</td>\n",
       "      <td>스포츠/야외 활동</td>\n",
       "      <td>5.0</td>\n",
       "    </tr>\n",
       "    <tr>\n",
       "      <th>84095</th>\n",
       "      <td>b5e6afd5a41800fdf401e0272ca74655</td>\n",
       "      <td>9c422a519119dcad7575db5af1ba540e</td>\n",
       "      <td>전자제품/기술</td>\n",
       "      <td>5.0</td>\n",
       "    </tr>\n",
       "  </tbody>\n",
       "</table>\n",
       "<p>84096 rows × 4 columns</p>\n",
       "</div>"
      ],
      "text/plain": [
       "                     customer_unique_id                        product_id  \\\n",
       "0      3ce436f183e68e07877b285a838db11a  4244733e06e7ecb4970a6e2683c13e61   \n",
       "1      f6dd3ec061db4e3987629fe6b26e5cce  e5f2d52b802189ee658865ca93d83a8f   \n",
       "2      6489ae5e4333f3693df5ad4372dab6d3  c777355d18b72b67abbeef9df44fd0fd   \n",
       "3      d4eb9395c8c0431ee92fce09860c5a06  7634da152a4610f1595efa32f14722fc   \n",
       "4      58dbd0b2d70206bf40e62cd34e84d795  ac6c3623068f30de03045865e4e10089   \n",
       "...                                 ...                               ...   \n",
       "84091  4d3abb73ceb86353aeadbe698aa9d5cb  43423cdffde7fda63d0414ed38c11a73   \n",
       "84092  11a0e041ea6e7e21856d2689b64e7f3a  6f0169f259bb0ff432bfff7d829b9946   \n",
       "84093  84c5d4fbaf120aae381fad077416eaa0  32e07fd915822b0765e448c4dd74c828   \n",
       "84094  29309aa813182aaddc9b259e31b870e6  72a30483855e2eafc67aee5dc2560482   \n",
       "84095  b5e6afd5a41800fdf401e0272ca74655  9c422a519119dcad7575db5af1ba540e   \n",
       "\n",
       "      product_category_name_english  review_score  \n",
       "0                                기타           5.0  \n",
       "1                           유아/애완용품           4.0  \n",
       "2                           가구/인테리어           5.0  \n",
       "3                             뷰티/건강           4.0  \n",
       "4                           가구/인테리어           5.0  \n",
       "...                             ...           ...  \n",
       "84091                       패션/액세서리           4.0  \n",
       "84092                            기타           5.0  \n",
       "84093                       전자제품/기술           5.0  \n",
       "84094                     스포츠/야외 활동           5.0  \n",
       "84095                       전자제품/기술           5.0  \n",
       "\n",
       "[84096 rows x 4 columns]"
      ]
     },
     "execution_count": 7,
     "metadata": {},
     "output_type": "execute_result"
    }
   ],
   "source": [
    "df1"
   ]
  },
  {
   "cell_type": "code",
   "execution_count": 8,
   "metadata": {},
   "outputs": [],
   "source": [
    "import matplotlib.pyplot as plt\n",
    "import seaborn as sns\n",
    "sns.set_style('white')\n",
    "%matplotlib inline"
   ]
  },
  {
   "cell_type": "code",
   "execution_count": 9,
   "metadata": {},
   "outputs": [
    {
     "data": {
      "text/plain": [
       "product_category_name_english\n",
       "도서/교육        4.474178\n",
       "식품/음료        4.244643\n",
       "뷰티/건강        4.194216\n",
       "유아/애완용품      4.168045\n",
       "스포츠/야외 활동    4.166134\n",
       "Name: review_score, dtype: float64"
      ]
     },
     "execution_count": 9,
     "metadata": {},
     "output_type": "execute_result"
    }
   ],
   "source": [
    "df1.groupby('product_category_name_english')['review_score'].mean().sort_values(ascending=False).head()"
   ]
  },
  {
   "cell_type": "code",
   "execution_count": 10,
   "metadata": {},
   "outputs": [
    {
     "data": {
      "text/plain": [
       "product_category_name_english\n",
       "전자제품/기술    17281\n",
       "가구/인테리어    14885\n",
       "뷰티/건강      12795\n",
       "패션/액세서리     9415\n",
       "유아/애완용품     8825\n",
       "Name: review_score, dtype: int64"
      ]
     },
     "execution_count": 10,
     "metadata": {},
     "output_type": "execute_result"
    }
   ],
   "source": [
    "df1.groupby('product_category_name_english')['review_score'].count().sort_values(ascending=False).head()"
   ]
  },
  {
   "cell_type": "code",
   "execution_count": 11,
   "metadata": {},
   "outputs": [
    {
     "data": {
      "text/html": [
       "<div>\n",
       "<style scoped>\n",
       "    .dataframe tbody tr th:only-of-type {\n",
       "        vertical-align: middle;\n",
       "    }\n",
       "\n",
       "    .dataframe tbody tr th {\n",
       "        vertical-align: top;\n",
       "    }\n",
       "\n",
       "    .dataframe thead th {\n",
       "        text-align: right;\n",
       "    }\n",
       "</style>\n",
       "<table border=\"1\" class=\"dataframe\">\n",
       "  <thead>\n",
       "    <tr style=\"text-align: right;\">\n",
       "      <th></th>\n",
       "      <th>review_score</th>\n",
       "    </tr>\n",
       "    <tr>\n",
       "      <th>product_category_name_english</th>\n",
       "      <th></th>\n",
       "    </tr>\n",
       "  </thead>\n",
       "  <tbody>\n",
       "    <tr>\n",
       "      <th>가구/인테리어</th>\n",
       "      <td>3.941014</td>\n",
       "    </tr>\n",
       "    <tr>\n",
       "      <th>기타</th>\n",
       "      <td>4.100023</td>\n",
       "    </tr>\n",
       "    <tr>\n",
       "      <th>도서/교육</th>\n",
       "      <td>4.474178</td>\n",
       "    </tr>\n",
       "    <tr>\n",
       "      <th>미디어/엔터테인먼트</th>\n",
       "      <td>4.154762</td>\n",
       "    </tr>\n",
       "    <tr>\n",
       "      <th>뷰티/건강</th>\n",
       "      <td>4.194216</td>\n",
       "    </tr>\n",
       "  </tbody>\n",
       "</table>\n",
       "</div>"
      ],
      "text/plain": [
       "                               review_score\n",
       "product_category_name_english              \n",
       "가구/인테리어                            3.941014\n",
       "기타                                 4.100023\n",
       "도서/교육                              4.474178\n",
       "미디어/엔터테인먼트                         4.154762\n",
       "뷰티/건강                              4.194216"
      ]
     },
     "execution_count": 11,
     "metadata": {},
     "output_type": "execute_result"
    }
   ],
   "source": [
    "reviews = pd.DataFrame(df1.groupby('product_category_name_english')['review_score'].mean())\n",
    "reviews.head()"
   ]
  },
  {
   "cell_type": "code",
   "execution_count": 12,
   "metadata": {},
   "outputs": [
    {
     "data": {
      "text/html": [
       "<div>\n",
       "<style scoped>\n",
       "    .dataframe tbody tr th:only-of-type {\n",
       "        vertical-align: middle;\n",
       "    }\n",
       "\n",
       "    .dataframe tbody tr th {\n",
       "        vertical-align: top;\n",
       "    }\n",
       "\n",
       "    .dataframe thead th {\n",
       "        text-align: right;\n",
       "    }\n",
       "</style>\n",
       "<table border=\"1\" class=\"dataframe\">\n",
       "  <thead>\n",
       "    <tr style=\"text-align: right;\">\n",
       "      <th></th>\n",
       "      <th>review_score</th>\n",
       "      <th>num of reviews</th>\n",
       "    </tr>\n",
       "    <tr>\n",
       "      <th>product_category_name_english</th>\n",
       "      <th></th>\n",
       "      <th></th>\n",
       "    </tr>\n",
       "  </thead>\n",
       "  <tbody>\n",
       "    <tr>\n",
       "      <th>가구/인테리어</th>\n",
       "      <td>3.941014</td>\n",
       "      <td>14885</td>\n",
       "    </tr>\n",
       "    <tr>\n",
       "      <th>기타</th>\n",
       "      <td>4.100023</td>\n",
       "      <td>8628</td>\n",
       "    </tr>\n",
       "    <tr>\n",
       "      <th>도서/교육</th>\n",
       "      <td>4.474178</td>\n",
       "      <td>852</td>\n",
       "    </tr>\n",
       "    <tr>\n",
       "      <th>미디어/엔터테인먼트</th>\n",
       "      <td>4.154762</td>\n",
       "      <td>1260</td>\n",
       "    </tr>\n",
       "    <tr>\n",
       "      <th>뷰티/건강</th>\n",
       "      <td>4.194216</td>\n",
       "      <td>12795</td>\n",
       "    </tr>\n",
       "  </tbody>\n",
       "</table>\n",
       "</div>"
      ],
      "text/plain": [
       "                               review_score  num of reviews\n",
       "product_category_name_english                              \n",
       "가구/인테리어                            3.941014           14885\n",
       "기타                                 4.100023            8628\n",
       "도서/교육                              4.474178             852\n",
       "미디어/엔터테인먼트                         4.154762            1260\n",
       "뷰티/건강                              4.194216           12795"
      ]
     },
     "execution_count": 12,
     "metadata": {},
     "output_type": "execute_result"
    }
   ],
   "source": [
    "reviews['num of reviews'] = pd.DataFrame(df1.groupby('product_category_name_english')['review_score'].count())\n",
    "reviews.head()"
   ]
  },
  {
   "cell_type": "markdown",
   "metadata": {},
   "source": [
    "Let's explore the data a bit and get a look at some of the best review product."
   ]
  },
  {
   "cell_type": "code",
   "execution_count": 13,
   "metadata": {},
   "outputs": [
    {
     "data": {
      "text/plain": [
       "<Axes: >"
      ]
     },
     "execution_count": 13,
     "metadata": {},
     "output_type": "execute_result"
    },
    {
     "data": {
      "image/png": "[encoded data removed]",
      "text/plain": [
       "<Figure size 1000x400 with 1 Axes>"
      ]
     },
     "metadata": {},
     "output_type": "display_data"
    }
   ],
   "source": [
    "plt.figure(figsize=(10,4))\n",
    "reviews['num of reviews'].hist(bins=70)"
   ]
  },
  {
   "cell_type": "code",
   "execution_count": 14,
   "metadata": {},
   "outputs": [
    {
     "data": {
      "text/plain": [
       "<Axes: >"
      ]
     },
     "execution_count": 14,
     "metadata": {},
     "output_type": "execute_result"
    },
    {
     "data": {
      "image/png": "[encoded data removed]",
      "text/plain": [
       "<Figure size 1000x400 with 1 Axes>"
      ]
     },
     "metadata": {},
     "output_type": "display_data"
    }
   ],
   "source": [
    "plt.figure(figsize=(10,4))\n",
    "reviews['review_score'].hist(bins=70)"
   ]
  },
  {
   "cell_type": "markdown",
   "metadata": {},
   "source": [
    "Now that we have a general idea of what the data looks like,"
   ]
  },
  {
   "cell_type": "markdown",
   "metadata": {},
   "source": [
    "# Recommending Similar Product"
   ]
  },
  {
   "cell_type": "markdown",
   "metadata": {},
   "source": [
    "Create a matrix that has the customer unique id on one access and the product_category_name english on another axis. Each cell will then consist of the review the customer gave to that product there will be a lot of NaN values, because most people have not review most of the product"
   ]
  },
  {
   "cell_type": "code",
   "execution_count": 15,
   "metadata": {},
   "outputs": [
    {
     "data": {
      "text/html": [
       "<div>\n",
       "<style scoped>\n",
       "    .dataframe tbody tr th:only-of-type {\n",
       "        vertical-align: middle;\n",
       "    }\n",
       "\n",
       "    .dataframe tbody tr th {\n",
       "        vertical-align: top;\n",
       "    }\n",
       "\n",
       "    .dataframe thead th {\n",
       "        text-align: right;\n",
       "    }\n",
       "</style>\n",
       "<table border=\"1\" class=\"dataframe\">\n",
       "  <thead>\n",
       "    <tr style=\"text-align: right;\">\n",
       "      <th>product_category_name_english</th>\n",
       "      <th>가구/인테리어</th>\n",
       "      <th>기타</th>\n",
       "      <th>도서/교육</th>\n",
       "      <th>미디어/엔터테인먼트</th>\n",
       "      <th>뷰티/건강</th>\n",
       "      <th>스포츠/야외 활동</th>\n",
       "      <th>식품/음료</th>\n",
       "      <th>유아/애완용품</th>\n",
       "      <th>전자제품/기술</th>\n",
       "      <th>패션/액세서리</th>\n",
       "    </tr>\n",
       "    <tr>\n",
       "      <th>customer_unique_id</th>\n",
       "      <th></th>\n",
       "      <th></th>\n",
       "      <th></th>\n",
       "      <th></th>\n",
       "      <th></th>\n",
       "      <th></th>\n",
       "      <th></th>\n",
       "      <th></th>\n",
       "      <th></th>\n",
       "      <th></th>\n",
       "    </tr>\n",
       "  </thead>\n",
       "  <tbody>\n",
       "    <tr>\n",
       "      <th>00012a2ce6f8dcda20d059ce98491703</th>\n",
       "      <td>NaN</td>\n",
       "      <td>NaN</td>\n",
       "      <td>NaN</td>\n",
       "      <td>NaN</td>\n",
       "      <td>NaN</td>\n",
       "      <td>NaN</td>\n",
       "      <td>NaN</td>\n",
       "      <td>1.0</td>\n",
       "      <td>NaN</td>\n",
       "      <td>NaN</td>\n",
       "    </tr>\n",
       "    <tr>\n",
       "      <th>000161a058600d5901f007fab4c27140</th>\n",
       "      <td>NaN</td>\n",
       "      <td>NaN</td>\n",
       "      <td>NaN</td>\n",
       "      <td>NaN</td>\n",
       "      <td>4.0</td>\n",
       "      <td>NaN</td>\n",
       "      <td>NaN</td>\n",
       "      <td>NaN</td>\n",
       "      <td>NaN</td>\n",
       "      <td>NaN</td>\n",
       "    </tr>\n",
       "    <tr>\n",
       "      <th>0001fd6190edaaf884bcaf3d49edf079</th>\n",
       "      <td>NaN</td>\n",
       "      <td>NaN</td>\n",
       "      <td>NaN</td>\n",
       "      <td>NaN</td>\n",
       "      <td>NaN</td>\n",
       "      <td>NaN</td>\n",
       "      <td>NaN</td>\n",
       "      <td>5.0</td>\n",
       "      <td>NaN</td>\n",
       "      <td>NaN</td>\n",
       "    </tr>\n",
       "    <tr>\n",
       "      <th>0002414f95344307404f0ace7a26f1d5</th>\n",
       "      <td>NaN</td>\n",
       "      <td>5.0</td>\n",
       "      <td>NaN</td>\n",
       "      <td>NaN</td>\n",
       "      <td>NaN</td>\n",
       "      <td>NaN</td>\n",
       "      <td>NaN</td>\n",
       "      <td>NaN</td>\n",
       "      <td>NaN</td>\n",
       "      <td>NaN</td>\n",
       "    </tr>\n",
       "    <tr>\n",
       "      <th>0004164d20a9e969af783496f3408652</th>\n",
       "      <td>NaN</td>\n",
       "      <td>NaN</td>\n",
       "      <td>NaN</td>\n",
       "      <td>NaN</td>\n",
       "      <td>NaN</td>\n",
       "      <td>1.0</td>\n",
       "      <td>NaN</td>\n",
       "      <td>NaN</td>\n",
       "      <td>NaN</td>\n",
       "      <td>NaN</td>\n",
       "    </tr>\n",
       "  </tbody>\n",
       "</table>\n",
       "</div>"
      ],
      "text/plain": [
       "product_category_name_english     가구/인테리어   기타  도서/교육  미디어/엔터테인먼트  뷰티/건강  \\\n",
       "customer_unique_id                                                         \n",
       "00012a2ce6f8dcda20d059ce98491703      NaN  NaN    NaN         NaN    NaN   \n",
       "000161a058600d5901f007fab4c27140      NaN  NaN    NaN         NaN    4.0   \n",
       "0001fd6190edaaf884bcaf3d49edf079      NaN  NaN    NaN         NaN    NaN   \n",
       "0002414f95344307404f0ace7a26f1d5      NaN  5.0    NaN         NaN    NaN   \n",
       "0004164d20a9e969af783496f3408652      NaN  NaN    NaN         NaN    NaN   \n",
       "\n",
       "product_category_name_english     스포츠/야외 활동  식품/음료  유아/애완용품  전자제품/기술  패션/액세서리  \n",
       "customer_unique_id                                                             \n",
       "00012a2ce6f8dcda20d059ce98491703        NaN    NaN      1.0      NaN      NaN  \n",
       "000161a058600d5901f007fab4c27140        NaN    NaN      NaN      NaN      NaN  \n",
       "0001fd6190edaaf884bcaf3d49edf079        NaN    NaN      5.0      NaN      NaN  \n",
       "0002414f95344307404f0ace7a26f1d5        NaN    NaN      NaN      NaN      NaN  \n",
       "0004164d20a9e969af783496f3408652        1.0    NaN      NaN      NaN      NaN  "
      ]
     },
     "execution_count": 15,
     "metadata": {},
     "output_type": "execute_result"
    }
   ],
   "source": [
    "df2 = df1.pivot_table(index='customer_unique_id',columns='product_category_name_english',values='review_score')\n",
    "df2.head()"
   ]
  },
  {
   "cell_type": "markdown",
   "metadata": {},
   "source": [
    "Most reviewed product:"
   ]
  },
  {
   "cell_type": "code",
   "execution_count": 16,
   "metadata": {},
   "outputs": [
    {
     "data": {
      "text/html": [
       "<div>\n",
       "<style scoped>\n",
       "    .dataframe tbody tr th:only-of-type {\n",
       "        vertical-align: middle;\n",
       "    }\n",
       "\n",
       "    .dataframe tbody tr th {\n",
       "        vertical-align: top;\n",
       "    }\n",
       "\n",
       "    .dataframe thead th {\n",
       "        text-align: right;\n",
       "    }\n",
       "</style>\n",
       "<table border=\"1\" class=\"dataframe\">\n",
       "  <thead>\n",
       "    <tr style=\"text-align: right;\">\n",
       "      <th></th>\n",
       "      <th>review_score</th>\n",
       "      <th>num of reviews</th>\n",
       "    </tr>\n",
       "    <tr>\n",
       "      <th>product_category_name_english</th>\n",
       "      <th></th>\n",
       "      <th></th>\n",
       "    </tr>\n",
       "  </thead>\n",
       "  <tbody>\n",
       "    <tr>\n",
       "      <th>전자제품/기술</th>\n",
       "      <td>4.021584</td>\n",
       "      <td>17281</td>\n",
       "    </tr>\n",
       "    <tr>\n",
       "      <th>가구/인테리어</th>\n",
       "      <td>3.941014</td>\n",
       "      <td>14885</td>\n",
       "    </tr>\n",
       "    <tr>\n",
       "      <th>뷰티/건강</th>\n",
       "      <td>4.194216</td>\n",
       "      <td>12795</td>\n",
       "    </tr>\n",
       "    <tr>\n",
       "      <th>패션/액세서리</th>\n",
       "      <td>4.129899</td>\n",
       "      <td>9415</td>\n",
       "    </tr>\n",
       "    <tr>\n",
       "      <th>유아/애완용품</th>\n",
       "      <td>4.168045</td>\n",
       "      <td>8825</td>\n",
       "    </tr>\n",
       "    <tr>\n",
       "      <th>기타</th>\n",
       "      <td>4.100023</td>\n",
       "      <td>8628</td>\n",
       "    </tr>\n",
       "    <tr>\n",
       "      <th>스포츠/야외 활동</th>\n",
       "      <td>4.166134</td>\n",
       "      <td>8445</td>\n",
       "    </tr>\n",
       "    <tr>\n",
       "      <th>미디어/엔터테인먼트</th>\n",
       "      <td>4.154762</td>\n",
       "      <td>1260</td>\n",
       "    </tr>\n",
       "    <tr>\n",
       "      <th>식품/음료</th>\n",
       "      <td>4.244643</td>\n",
       "      <td>1120</td>\n",
       "    </tr>\n",
       "    <tr>\n",
       "      <th>도서/교육</th>\n",
       "      <td>4.474178</td>\n",
       "      <td>852</td>\n",
       "    </tr>\n",
       "  </tbody>\n",
       "</table>\n",
       "</div>"
      ],
      "text/plain": [
       "                               review_score  num of reviews\n",
       "product_category_name_english                              \n",
       "전자제품/기술                            4.021584           17281\n",
       "가구/인테리어                            3.941014           14885\n",
       "뷰티/건강                              4.194216           12795\n",
       "패션/액세서리                            4.129899            9415\n",
       "유아/애완용품                            4.168045            8825\n",
       "기타                                 4.100023            8628\n",
       "스포츠/야외 활동                          4.166134            8445\n",
       "미디어/엔터테인먼트                         4.154762            1260\n",
       "식품/음료                              4.244643            1120\n",
       "도서/교육                              4.474178             852"
      ]
     },
     "execution_count": 16,
     "metadata": {},
     "output_type": "execute_result"
    }
   ],
   "source": [
    "reviews.sort_values('num of reviews',ascending=False).head(10)"
   ]
  },
  {
   "cell_type": "code",
   "execution_count": 18,
   "metadata": {},
   "outputs": [
    {
     "data": {
      "text/plain": [
       "customer_unique_id\n",
       "00012a2ce6f8dcda20d059ce98491703   NaN\n",
       "000161a058600d5901f007fab4c27140   NaN\n",
       "0001fd6190edaaf884bcaf3d49edf079   NaN\n",
       "0002414f95344307404f0ace7a26f1d5   NaN\n",
       "0004164d20a9e969af783496f3408652   NaN\n",
       "Name: 가구/인테리어, dtype: float64"
      ]
     },
     "execution_count": 18,
     "metadata": {},
     "output_type": "execute_result"
    }
   ],
   "source": [
    "bedbath_user_reviews = df2['가구/인테리어']\n",
    "telephony_user_reviews = df2['미디어/엔터테인먼트']\n",
    "bedbath_user_reviews.head()"
   ]
  },
  {
   "cell_type": "markdown",
   "metadata": {},
   "source": [
    "## We can then use corrwith() method to get correlations between two pandas series:"
   ]
  },
  {
   "cell_type": "code",
   "execution_count": 19,
   "metadata": {},
   "outputs": [
    {
     "name": "stderr",
     "output_type": "stream",
     "text": [
      "/opt/anaconda3/envs/tf_env/lib/python3.10/site-packages/numpy/lib/_function_base_impl.py:2914: RuntimeWarning: Degrees of freedom <= 0 for slice\n",
      "  c = cov(x, y, rowvar, dtype=dtype)\n",
      "/opt/anaconda3/envs/tf_env/lib/python3.10/site-packages/numpy/lib/_function_base_impl.py:2773: RuntimeWarning: divide by zero encountered in divide\n",
      "  c *= np.true_divide(1, fact)\n",
      "/opt/anaconda3/envs/tf_env/lib/python3.10/site-packages/numpy/lib/_function_base_impl.py:2773: RuntimeWarning: invalid value encountered in multiply\n",
      "  c *= np.true_divide(1, fact)\n"
     ]
    }
   ],
   "source": [
    "similar_to_bedbath = df2.corrwith(bedbath_user_reviews)\n",
    "similar_to_telephony = df2.corrwith(telephony_user_reviews)"
   ]
  },
  {
   "cell_type": "markdown",
   "metadata": {},
   "source": [
    "clean this by removing NaN values and using a DataFrame instead of a series"
   ]
  },
  {
   "cell_type": "code",
   "execution_count": 20,
   "metadata": {},
   "outputs": [
    {
     "data": {
      "text/html": [
       "<div>\n",
       "<style scoped>\n",
       "    .dataframe tbody tr th:only-of-type {\n",
       "        vertical-align: middle;\n",
       "    }\n",
       "\n",
       "    .dataframe tbody tr th {\n",
       "        vertical-align: top;\n",
       "    }\n",
       "\n",
       "    .dataframe thead th {\n",
       "        text-align: right;\n",
       "    }\n",
       "</style>\n",
       "<table border=\"1\" class=\"dataframe\">\n",
       "  <thead>\n",
       "    <tr style=\"text-align: right;\">\n",
       "      <th></th>\n",
       "      <th>Correlation</th>\n",
       "    </tr>\n",
       "    <tr>\n",
       "      <th>product_category_name_english</th>\n",
       "      <th></th>\n",
       "    </tr>\n",
       "  </thead>\n",
       "  <tbody>\n",
       "    <tr>\n",
       "      <th>가구/인테리어</th>\n",
       "      <td>1.0</td>\n",
       "    </tr>\n",
       "    <tr>\n",
       "      <th>기타</th>\n",
       "      <td>1.0</td>\n",
       "    </tr>\n",
       "    <tr>\n",
       "      <th>뷰티/건강</th>\n",
       "      <td>1.0</td>\n",
       "    </tr>\n",
       "    <tr>\n",
       "      <th>스포츠/야외 활동</th>\n",
       "      <td>1.0</td>\n",
       "    </tr>\n",
       "    <tr>\n",
       "      <th>유아/애완용품</th>\n",
       "      <td>1.0</td>\n",
       "    </tr>\n",
       "  </tbody>\n",
       "</table>\n",
       "</div>"
      ],
      "text/plain": [
       "                               Correlation\n",
       "product_category_name_english             \n",
       "가구/인테리어                                1.0\n",
       "기타                                     1.0\n",
       "뷰티/건강                                  1.0\n",
       "스포츠/야외 활동                              1.0\n",
       "유아/애완용품                                1.0"
      ]
     },
     "execution_count": 20,
     "metadata": {},
     "output_type": "execute_result"
    }
   ],
   "source": [
    "corr_bedbath = pd.DataFrame(similar_to_bedbath,columns=['Correlation'])\n",
    "corr_bedbath.dropna(inplace=True)\n",
    "corr_bedbath.head()"
   ]
  },
  {
   "cell_type": "markdown",
   "metadata": {},
   "source": [
    "we can sort the dataframe by correlation, we should get the most similar products, however we get some results that don't really make sense. This is because there are a lot of products only reviewed once by customer who also reviewed bed bath table (it was the most popular product)."
   ]
  },
  {
   "cell_type": "code",
   "execution_count": 21,
   "metadata": {},
   "outputs": [
    {
     "data": {
      "text/html": [
       "<div>\n",
       "<style scoped>\n",
       "    .dataframe tbody tr th:only-of-type {\n",
       "        vertical-align: middle;\n",
       "    }\n",
       "\n",
       "    .dataframe tbody tr th {\n",
       "        vertical-align: top;\n",
       "    }\n",
       "\n",
       "    .dataframe thead th {\n",
       "        text-align: right;\n",
       "    }\n",
       "</style>\n",
       "<table border=\"1\" class=\"dataframe\">\n",
       "  <thead>\n",
       "    <tr style=\"text-align: right;\">\n",
       "      <th></th>\n",
       "      <th>Correlation</th>\n",
       "    </tr>\n",
       "    <tr>\n",
       "      <th>product_category_name_english</th>\n",
       "      <th></th>\n",
       "    </tr>\n",
       "  </thead>\n",
       "  <tbody>\n",
       "    <tr>\n",
       "      <th>기타</th>\n",
       "      <td>1.0</td>\n",
       "    </tr>\n",
       "    <tr>\n",
       "      <th>뷰티/건강</th>\n",
       "      <td>1.0</td>\n",
       "    </tr>\n",
       "    <tr>\n",
       "      <th>스포츠/야외 활동</th>\n",
       "      <td>1.0</td>\n",
       "    </tr>\n",
       "    <tr>\n",
       "      <th>유아/애완용품</th>\n",
       "      <td>1.0</td>\n",
       "    </tr>\n",
       "    <tr>\n",
       "      <th>전자제품/기술</th>\n",
       "      <td>1.0</td>\n",
       "    </tr>\n",
       "    <tr>\n",
       "      <th>가구/인테리어</th>\n",
       "      <td>1.0</td>\n",
       "    </tr>\n",
       "    <tr>\n",
       "      <th>패션/액세서리</th>\n",
       "      <td>1.0</td>\n",
       "    </tr>\n",
       "  </tbody>\n",
       "</table>\n",
       "</div>"
      ],
      "text/plain": [
       "                               Correlation\n",
       "product_category_name_english             \n",
       "기타                                     1.0\n",
       "뷰티/건강                                  1.0\n",
       "스포츠/야외 활동                              1.0\n",
       "유아/애완용품                                1.0\n",
       "전자제품/기술                                1.0\n",
       "가구/인테리어                                1.0\n",
       "패션/액세서리                                1.0"
      ]
     },
     "execution_count": 21,
     "metadata": {},
     "output_type": "execute_result"
    }
   ],
   "source": [
    "corr_bedbath.sort_values('Correlation',ascending=False).head(10)"
   ]
  },
  {
   "cell_type": "code",
   "execution_count": 22,
   "metadata": {},
   "outputs": [
    {
     "data": {
      "text/html": [
       "<div>\n",
       "<style scoped>\n",
       "    .dataframe tbody tr th:only-of-type {\n",
       "        vertical-align: middle;\n",
       "    }\n",
       "\n",
       "    .dataframe tbody tr th {\n",
       "        vertical-align: top;\n",
       "    }\n",
       "\n",
       "    .dataframe thead th {\n",
       "        text-align: right;\n",
       "    }\n",
       "</style>\n",
       "<table border=\"1\" class=\"dataframe\">\n",
       "  <thead>\n",
       "    <tr style=\"text-align: right;\">\n",
       "      <th></th>\n",
       "      <th>Correlation</th>\n",
       "      <th>num of reviews</th>\n",
       "    </tr>\n",
       "    <tr>\n",
       "      <th>product_category_name_english</th>\n",
       "      <th></th>\n",
       "      <th></th>\n",
       "    </tr>\n",
       "  </thead>\n",
       "  <tbody>\n",
       "    <tr>\n",
       "      <th>가구/인테리어</th>\n",
       "      <td>1.0</td>\n",
       "      <td>14885</td>\n",
       "    </tr>\n",
       "    <tr>\n",
       "      <th>기타</th>\n",
       "      <td>1.0</td>\n",
       "      <td>8628</td>\n",
       "    </tr>\n",
       "    <tr>\n",
       "      <th>뷰티/건강</th>\n",
       "      <td>1.0</td>\n",
       "      <td>12795</td>\n",
       "    </tr>\n",
       "    <tr>\n",
       "      <th>스포츠/야외 활동</th>\n",
       "      <td>1.0</td>\n",
       "      <td>8445</td>\n",
       "    </tr>\n",
       "    <tr>\n",
       "      <th>유아/애완용품</th>\n",
       "      <td>1.0</td>\n",
       "      <td>8825</td>\n",
       "    </tr>\n",
       "  </tbody>\n",
       "</table>\n",
       "</div>"
      ],
      "text/plain": [
       "                               Correlation  num of reviews\n",
       "product_category_name_english                             \n",
       "가구/인테리어                                1.0           14885\n",
       "기타                                     1.0            8628\n",
       "뷰티/건강                                  1.0           12795\n",
       "스포츠/야외 활동                              1.0            8445\n",
       "유아/애완용품                                1.0            8825"
      ]
     },
     "execution_count": 22,
     "metadata": {},
     "output_type": "execute_result"
    }
   ],
   "source": [
    "corr_bedbath = corr_bedbath.join(reviews['num of reviews'])\n",
    "corr_bedbath.head()"
   ]
  },
  {
   "cell_type": "markdown",
   "metadata": {},
   "source": [
    "# Recommendation based on product correlated with bed bath table product"
   ]
  },
  {
   "cell_type": "markdown",
   "metadata": {},
   "source": [
    "filtering out products that have less than 100 reviews (this value was chosen based off the histogram from earlier)."
   ]
  },
  {
   "cell_type": "code",
   "execution_count": 23,
   "metadata": {},
   "outputs": [
    {
     "data": {
      "text/html": [
       "<div>\n",
       "<style scoped>\n",
       "    .dataframe tbody tr th:only-of-type {\n",
       "        vertical-align: middle;\n",
       "    }\n",
       "\n",
       "    .dataframe tbody tr th {\n",
       "        vertical-align: top;\n",
       "    }\n",
       "\n",
       "    .dataframe thead th {\n",
       "        text-align: right;\n",
       "    }\n",
       "</style>\n",
       "<table border=\"1\" class=\"dataframe\">\n",
       "  <thead>\n",
       "    <tr style=\"text-align: right;\">\n",
       "      <th></th>\n",
       "      <th>Correlation</th>\n",
       "      <th>num of reviews</th>\n",
       "    </tr>\n",
       "    <tr>\n",
       "      <th>product_category_name_english</th>\n",
       "      <th></th>\n",
       "      <th></th>\n",
       "    </tr>\n",
       "  </thead>\n",
       "  <tbody>\n",
       "    <tr>\n",
       "      <th>기타</th>\n",
       "      <td>1.0</td>\n",
       "      <td>8628</td>\n",
       "    </tr>\n",
       "    <tr>\n",
       "      <th>뷰티/건강</th>\n",
       "      <td>1.0</td>\n",
       "      <td>12795</td>\n",
       "    </tr>\n",
       "    <tr>\n",
       "      <th>스포츠/야외 활동</th>\n",
       "      <td>1.0</td>\n",
       "      <td>8445</td>\n",
       "    </tr>\n",
       "    <tr>\n",
       "      <th>유아/애완용품</th>\n",
       "      <td>1.0</td>\n",
       "      <td>8825</td>\n",
       "    </tr>\n",
       "    <tr>\n",
       "      <th>전자제품/기술</th>\n",
       "      <td>1.0</td>\n",
       "      <td>17281</td>\n",
       "    </tr>\n",
       "  </tbody>\n",
       "</table>\n",
       "</div>"
      ],
      "text/plain": [
       "                               Correlation  num of reviews\n",
       "product_category_name_english                             \n",
       "기타                                     1.0            8628\n",
       "뷰티/건강                                  1.0           12795\n",
       "스포츠/야외 활동                              1.0            8445\n",
       "유아/애완용품                                1.0            8825\n",
       "전자제품/기술                                1.0           17281"
      ]
     },
     "execution_count": 23,
     "metadata": {},
     "output_type": "execute_result"
    }
   ],
   "source": [
    "corr_bedbath[corr_bedbath['num of reviews']>100].sort_values('Correlation',ascending=False).head()"
   ]
  },
  {
   "cell_type": "markdown",
   "metadata": {},
   "source": [
    "# Recommendation based on product correlated with Telephony product "
   ]
  },
  {
   "cell_type": "code",
   "execution_count": 24,
   "metadata": {},
   "outputs": [
    {
     "data": {
      "text/html": [
       "<div>\n",
       "<style scoped>\n",
       "    .dataframe tbody tr th:only-of-type {\n",
       "        vertical-align: middle;\n",
       "    }\n",
       "\n",
       "    .dataframe tbody tr th {\n",
       "        vertical-align: top;\n",
       "    }\n",
       "\n",
       "    .dataframe thead th {\n",
       "        text-align: right;\n",
       "    }\n",
       "</style>\n",
       "<table border=\"1\" class=\"dataframe\">\n",
       "  <thead>\n",
       "    <tr style=\"text-align: right;\">\n",
       "      <th></th>\n",
       "      <th>Correlation</th>\n",
       "      <th>num of reviews</th>\n",
       "    </tr>\n",
       "    <tr>\n",
       "      <th>product_category_name_english</th>\n",
       "      <th></th>\n",
       "      <th></th>\n",
       "    </tr>\n",
       "  </thead>\n",
       "  <tbody>\n",
       "    <tr>\n",
       "      <th>미디어/엔터테인먼트</th>\n",
       "      <td>1.0</td>\n",
       "      <td>1260</td>\n",
       "    </tr>\n",
       "    <tr>\n",
       "      <th>스포츠/야외 활동</th>\n",
       "      <td>1.0</td>\n",
       "      <td>8445</td>\n",
       "    </tr>\n",
       "    <tr>\n",
       "      <th>기타</th>\n",
       "      <td>1.0</td>\n",
       "      <td>8628</td>\n",
       "    </tr>\n",
       "    <tr>\n",
       "      <th>유아/애완용품</th>\n",
       "      <td>1.0</td>\n",
       "      <td>8825</td>\n",
       "    </tr>\n",
       "    <tr>\n",
       "      <th>전자제품/기술</th>\n",
       "      <td>1.0</td>\n",
       "      <td>17281</td>\n",
       "    </tr>\n",
       "  </tbody>\n",
       "</table>\n",
       "</div>"
      ],
      "text/plain": [
       "                               Correlation  num of reviews\n",
       "product_category_name_english                             \n",
       "미디어/엔터테인먼트                             1.0            1260\n",
       "스포츠/야외 활동                              1.0            8445\n",
       "기타                                     1.0            8628\n",
       "유아/애완용품                                1.0            8825\n",
       "전자제품/기술                                1.0           17281"
      ]
     },
     "execution_count": 24,
     "metadata": {},
     "output_type": "execute_result"
    }
   ],
   "source": [
    "corr_telephony = pd.DataFrame(similar_to_telephony,columns=['Correlation'])\n",
    "corr_telephony.dropna(inplace=True)\n",
    "corr_telephony = corr_telephony.join(reviews['num of reviews'])\n",
    "corr_telephony[corr_telephony['num of reviews']>100].sort_values('Correlation',ascending=False).head()"
   ]
  },
  {
   "cell_type": "code",
   "execution_count": null,
   "metadata": {},
   "outputs": [],
   "source": []
  }
 ],
 "metadata": {
  "kernelspec": {
   "display_name": "Python (tf_env)",
   "language": "python",
   "name": "tf_env"
  },
  "language_info": {
   "codemirror_mode": {
    "name": "ipython",
    "version": 3
   },
   "file_extension": ".py",
   "mimetype": "text/x-python",
   "name": "python",
   "nbconvert_exporter": "python",
   "pygments_lexer": "ipython3",
   "version": "3.10.16"
  }
 },
 "nbformat": 4,
 "nbformat_minor": 2
}
