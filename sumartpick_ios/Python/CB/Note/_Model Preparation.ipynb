{
 "cells": [
  {
   "cell_type": "markdown",
   "metadata": {},
   "source": [
    "# Customer purchase prediction"
   ]
  },
  {
   "cell_type": "markdown",
   "metadata": {},
   "source": [
    "# Dataset preparation"
   ]
  },
  {
   "cell_type": "markdown",
   "metadata": {},
   "source": [
    "## combine orders , reviews, payments dataset with customer dataset and dropping unwanted columns\n"
   ]
  },
  {
   "cell_type": "code",
   "execution_count": 101,
   "metadata": {},
   "outputs": [],
   "source": [
    "# !pip install seaborn"
   ]
  },
  {
   "cell_type": "code",
   "execution_count": 102,
   "metadata": {},
   "outputs": [],
   "source": [
    "import pandas as pd\n",
    "import numpy as np\n",
    "import seaborn as sns\n",
    "import matplotlib.pyplot as plt\n",
    "%matplotlib inline"
   ]
  },
  {
   "cell_type": "code",
   "execution_count": 103,
   "metadata": {},
   "outputs": [],
   "source": [
    "item=pd.read_csv(\"../data/olist_order_items_dataset.csv\")\n",
    "order=pd.read_csv(\"../data/olist_orders_dataset.csv\")\n",
    "product=pd.read_csv(\"../data/olist_products_dataset.csv\")\n",
    "customer=pd.read_csv(\"../data/olist_customers_dataset.csv\")\n",
    "review=pd.read_csv(\"../data/olist_order_reviews_dataset.csv\") \n",
    "payment=pd.read_csv(\"../data/olist_order_payments_dataset.csv\")"
   ]
  },
  {
   "cell_type": "code",
   "execution_count": 104,
   "metadata": {},
   "outputs": [],
   "source": [
    "df1=pd.merge(customer.drop(columns=['customer_zip_code_prefix']),order[['customer_id','order_id','order_purchase_timestamp']],on='customer_id')"
   ]
  },
  {
   "cell_type": "code",
   "execution_count": 105,
   "metadata": {},
   "outputs": [],
   "source": [
    "df2 = pd.merge(df1,review[['order_id','review_score']],on='order_id')"
   ]
  },
  {
   "cell_type": "code",
   "execution_count": 106,
   "metadata": {},
   "outputs": [],
   "source": [
    "paid = payment[['order_id','payment_value']].groupby('order_id').sum().reset_index()"
   ]
  },
  {
   "cell_type": "code",
   "execution_count": 107,
   "metadata": {},
   "outputs": [],
   "source": [
    "df3 = pd.merge(df2,paid,on='order_id')"
   ]
  },
  {
   "cell_type": "code",
   "execution_count": 108,
   "metadata": {},
   "outputs": [],
   "source": [
    "## making purchase date in datetime format\n",
    "df3['order_purchase_timestamp']=pd.to_datetime(df3['order_purchase_timestamp']).dt.date"
   ]
  },
  {
   "cell_type": "code",
   "execution_count": 109,
   "metadata": {},
   "outputs": [
    {
     "data": {
      "text/plain": [
       "0        2017-05-16\n",
       "1        2018-01-12\n",
       "2        2018-05-19\n",
       "3        2018-03-13\n",
       "4        2018-07-29\n",
       "            ...    \n",
       "99218    2018-04-07\n",
       "99219    2018-04-04\n",
       "99220    2018-04-08\n",
       "99221    2017-11-03\n",
       "99222    2017-12-19\n",
       "Name: order_purchase_timestamp, Length: 99223, dtype: object"
      ]
     },
     "execution_count": 109,
     "metadata": {},
     "output_type": "execute_result"
    }
   ],
   "source": [
    "df3['order_purchase_timestamp']"
   ]
  },
  {
   "cell_type": "markdown",
   "metadata": {},
   "source": [
    "## We are going to sperate out 180 days (last 6 months) from the maximum day of purchase by customers out of the dataset. 2018/4 to 2018/10.\n",
    "## We are using that data to predict whether the customer made a purchase in that period. We are going to use data until 2018/4 to make that prediction"
   ]
  },
  {
   "cell_type": "code",
   "execution_count": 110,
   "metadata": {},
   "outputs": [],
   "source": [
    "number_of_days_for_purchase=180\n",
    "max_date_in_data= df3['order_purchase_timestamp'].max()"
   ]
  },
  {
   "cell_type": "code",
   "execution_count": 111,
   "metadata": {},
   "outputs": [],
   "source": [
    "min_date_in_data= df3['order_purchase_timestamp'].min()"
   ]
  },
  {
   "cell_type": "code",
   "execution_count": 112,
   "metadata": {},
   "outputs": [
    {
     "data": {
      "text/plain": [
       "datetime.date(2016, 9, 4)"
      ]
     },
     "execution_count": 112,
     "metadata": {},
     "output_type": "execute_result"
    }
   ],
   "source": [
    "min_date_in_data"
   ]
  },
  {
   "cell_type": "code",
   "execution_count": 113,
   "metadata": {},
   "outputs": [],
   "source": [
    "from datetime import datetime, timedelta "
   ]
  },
  {
   "cell_type": "code",
   "execution_count": 114,
   "metadata": {},
   "outputs": [
    {
     "data": {
      "text/plain": [
       "datetime.date(2018, 10, 17)"
      ]
     },
     "execution_count": 114,
     "metadata": {},
     "output_type": "execute_result"
    }
   ],
   "source": [
    "max_date_in_data"
   ]
  },
  {
   "cell_type": "code",
   "execution_count": 115,
   "metadata": {},
   "outputs": [],
   "source": [
    "data_split_date=max_date_in_data -timedelta(days=number_of_days_for_purchase)"
   ]
  },
  {
   "cell_type": "code",
   "execution_count": 116,
   "metadata": {},
   "outputs": [
    {
     "data": {
      "text/plain": [
       "datetime.date(2018, 4, 20)"
      ]
     },
     "execution_count": 116,
     "metadata": {},
     "output_type": "execute_result"
    }
   ],
   "source": [
    "data_split_date"
   ]
  },
  {
   "cell_type": "code",
   "execution_count": 117,
   "metadata": {},
   "outputs": [],
   "source": [
    "df_full=df3[df3['order_purchase_timestamp']<=data_split_date]\n",
    "df_last=df3[df3['order_purchase_timestamp']>data_split_date]"
   ]
  },
  {
   "cell_type": "code",
   "execution_count": 118,
   "metadata": {},
   "outputs": [],
   "source": [
    "df_last_180 =pd.DataFrame({'customer_unique_id':df3['customer_unique_id'].values.tolist()})"
   ]
  },
  {
   "cell_type": "code",
   "execution_count": 119,
   "metadata": {},
   "outputs": [],
   "source": [
    "df_last_180=df_last_180.merge(df_last.groupby(['customer_unique_id'])['payment_value'].sum().reset_index(),how='outer',on='customer_unique_id')"
   ]
  },
  {
   "cell_type": "code",
   "execution_count": 120,
   "metadata": {},
   "outputs": [],
   "source": [
    "df_last_180.fillna(0,inplace=True)"
   ]
  },
  {
   "cell_type": "code",
   "execution_count": 121,
   "metadata": {},
   "outputs": [],
   "source": [
    "df_last_180['purchased']=np.where(df_last_180['payment_value']>0, 1,0)"
   ]
  },
  {
   "cell_type": "code",
   "execution_count": 122,
   "metadata": {},
   "outputs": [
    {
     "data": {
      "text/html": [
       "<div>\n",
       "<style scoped>\n",
       "    .dataframe tbody tr th:only-of-type {\n",
       "        vertical-align: middle;\n",
       "    }\n",
       "\n",
       "    .dataframe tbody tr th {\n",
       "        vertical-align: top;\n",
       "    }\n",
       "\n",
       "    .dataframe thead th {\n",
       "        text-align: right;\n",
       "    }\n",
       "</style>\n",
       "<table border=\"1\" class=\"dataframe\">\n",
       "  <thead>\n",
       "    <tr style=\"text-align: right;\">\n",
       "      <th></th>\n",
       "      <th>customer_unique_id</th>\n",
       "      <th>payment_value</th>\n",
       "      <th>purchased</th>\n",
       "    </tr>\n",
       "  </thead>\n",
       "  <tbody>\n",
       "    <tr>\n",
       "      <th>0</th>\n",
       "      <td>0000366f3b9a7992bf8c76cfdf3221e2</td>\n",
       "      <td>141.90</td>\n",
       "      <td>1</td>\n",
       "    </tr>\n",
       "    <tr>\n",
       "      <th>1</th>\n",
       "      <td>0000b849f77a49e4a4ce2b2a4ca5be3f</td>\n",
       "      <td>27.19</td>\n",
       "      <td>1</td>\n",
       "    </tr>\n",
       "    <tr>\n",
       "      <th>2</th>\n",
       "      <td>0000f46a3911fa3c0805444483337064</td>\n",
       "      <td>0.00</td>\n",
       "      <td>0</td>\n",
       "    </tr>\n",
       "    <tr>\n",
       "      <th>3</th>\n",
       "      <td>0000f6ccb0745a6a4b88665a16c9f078</td>\n",
       "      <td>0.00</td>\n",
       "      <td>0</td>\n",
       "    </tr>\n",
       "    <tr>\n",
       "      <th>4</th>\n",
       "      <td>0004aac84e0df4da2b147fca70cf8255</td>\n",
       "      <td>0.00</td>\n",
       "      <td>0</td>\n",
       "    </tr>\n",
       "  </tbody>\n",
       "</table>\n",
       "</div>"
      ],
      "text/plain": [
       "                 customer_unique_id  payment_value  purchased\n",
       "0  0000366f3b9a7992bf8c76cfdf3221e2         141.90          1\n",
       "1  0000b849f77a49e4a4ce2b2a4ca5be3f          27.19          1\n",
       "2  0000f46a3911fa3c0805444483337064           0.00          0\n",
       "3  0000f6ccb0745a6a4b88665a16c9f078           0.00          0\n",
       "4  0004aac84e0df4da2b147fca70cf8255           0.00          0"
      ]
     },
     "execution_count": 122,
     "metadata": {},
     "output_type": "execute_result"
    }
   ],
   "source": [
    "df_last_180.head()"
   ]
  },
  {
   "cell_type": "markdown",
   "metadata": {},
   "source": [
    "## The customers who bought items in that 6 months were given 1 and others were given 0. these values will act as binary classification for our prediction model"
   ]
  },
  {
   "cell_type": "markdown",
   "metadata": {},
   "source": [
    "# Feature Engineering"
   ]
  },
  {
   "cell_type": "code",
   "execution_count": 123,
   "metadata": {},
   "outputs": [],
   "source": [
    "## total amount per customer\n",
    "tot_Amount=df_full.groupby('customer_unique_id')['payment_value'].sum().reset_index().rename(columns={'payment_value':'total_amount'})"
   ]
  },
  {
   "cell_type": "code",
   "execution_count": 124,
   "metadata": {},
   "outputs": [],
   "source": [
    "## average review given\n",
    "avg_review=df_full.groupby('customer_unique_id')['review_score'].mean().reset_index().rename(columns={'review_score':'avg_review'})"
   ]
  },
  {
   "cell_type": "code",
   "execution_count": 125,
   "metadata": {},
   "outputs": [
    {
     "data": {
      "text/html": [
       "<div>\n",
       "<style scoped>\n",
       "    .dataframe tbody tr th:only-of-type {\n",
       "        vertical-align: middle;\n",
       "    }\n",
       "\n",
       "    .dataframe tbody tr th {\n",
       "        vertical-align: top;\n",
       "    }\n",
       "\n",
       "    .dataframe thead th {\n",
       "        text-align: right;\n",
       "    }\n",
       "</style>\n",
       "<table border=\"1\" class=\"dataframe\">\n",
       "  <thead>\n",
       "    <tr style=\"text-align: right;\">\n",
       "      <th></th>\n",
       "      <th>customer_id</th>\n",
       "      <th>customer_unique_id</th>\n",
       "      <th>customer_city</th>\n",
       "      <th>customer_state</th>\n",
       "      <th>order_id</th>\n",
       "      <th>order_purchase_timestamp</th>\n",
       "      <th>review_score</th>\n",
       "      <th>payment_value</th>\n",
       "    </tr>\n",
       "  </thead>\n",
       "  <tbody>\n",
       "    <tr>\n",
       "      <th>0</th>\n",
       "      <td>06b8999e2fba1a1fbc88172c00ba8bc7</td>\n",
       "      <td>861eff4711a542e4b93843c6dd7febb0</td>\n",
       "      <td>franca</td>\n",
       "      <td>SP</td>\n",
       "      <td>00e7ee1b050b8499577073aeb2a297a1</td>\n",
       "      <td>2017-05-16</td>\n",
       "      <td>4</td>\n",
       "      <td>146.87</td>\n",
       "    </tr>\n",
       "    <tr>\n",
       "      <th>1</th>\n",
       "      <td>18955e83d337fd6b2def6b18a428ac77</td>\n",
       "      <td>290c77bc529b7ac935b93aa66c333dc3</td>\n",
       "      <td>sao bernardo do campo</td>\n",
       "      <td>SP</td>\n",
       "      <td>29150127e6685892b6eab3eec79f59c7</td>\n",
       "      <td>2018-01-12</td>\n",
       "      <td>5</td>\n",
       "      <td>335.48</td>\n",
       "    </tr>\n",
       "    <tr>\n",
       "      <th>3</th>\n",
       "      <td>b2b6027bc5c5109e529d4dc6358b12c3</td>\n",
       "      <td>259dac757896d24d7702b9acbbff3f3c</td>\n",
       "      <td>mogi das cruzes</td>\n",
       "      <td>SP</td>\n",
       "      <td>951670f92359f4fe4a63112aa7306eba</td>\n",
       "      <td>2018-03-13</td>\n",
       "      <td>5</td>\n",
       "      <td>173.30</td>\n",
       "    </tr>\n",
       "    <tr>\n",
       "      <th>5</th>\n",
       "      <td>879864dab9bc3047522c92c82e1212b8</td>\n",
       "      <td>4c93744516667ad3b8f1fb645a3116a4</td>\n",
       "      <td>jaragua do sul</td>\n",
       "      <td>SC</td>\n",
       "      <td>5741ea1f91b5fbab2bd2dc653a5b5099</td>\n",
       "      <td>2017-09-14</td>\n",
       "      <td>5</td>\n",
       "      <td>282.21</td>\n",
       "    </tr>\n",
       "    <tr>\n",
       "      <th>6</th>\n",
       "      <td>fd826e7cf63160e536e0908c76c3f441</td>\n",
       "      <td>addec96d2e059c80c30fe6871d30d177</td>\n",
       "      <td>sao paulo</td>\n",
       "      <td>SP</td>\n",
       "      <td>36e694cf4cbc2a4803200c35e84abdc4</td>\n",
       "      <td>2018-02-19</td>\n",
       "      <td>5</td>\n",
       "      <td>22.77</td>\n",
       "    </tr>\n",
       "    <tr>\n",
       "      <th>...</th>\n",
       "      <td>...</td>\n",
       "      <td>...</td>\n",
       "      <td>...</td>\n",
       "      <td>...</td>\n",
       "      <td>...</td>\n",
       "      <td>...</td>\n",
       "      <td>...</td>\n",
       "      <td>...</td>\n",
       "    </tr>\n",
       "    <tr>\n",
       "      <th>99218</th>\n",
       "      <td>17ddf5dd5d51696bb3d7c6291687be6f</td>\n",
       "      <td>1a29b476fee25c95fbafc67c5ac95cf8</td>\n",
       "      <td>sao paulo</td>\n",
       "      <td>SP</td>\n",
       "      <td>6760e20addcf0121e9d58f2f1ff14298</td>\n",
       "      <td>2018-04-07</td>\n",
       "      <td>4</td>\n",
       "      <td>88.78</td>\n",
       "    </tr>\n",
       "    <tr>\n",
       "      <th>99219</th>\n",
       "      <td>e7b71a9017aa05c9a7fd292d714858e8</td>\n",
       "      <td>d52a67c98be1cf6a5c84435bd38d095d</td>\n",
       "      <td>taboao da serra</td>\n",
       "      <td>SP</td>\n",
       "      <td>9ec0c8947d973db4f4e8dcf1fbfa8f1b</td>\n",
       "      <td>2018-04-04</td>\n",
       "      <td>5</td>\n",
       "      <td>129.06</td>\n",
       "    </tr>\n",
       "    <tr>\n",
       "      <th>99220</th>\n",
       "      <td>5e28dfe12db7fb50a4b2f691faecea5e</td>\n",
       "      <td>e9f50caf99f032f0bf3c55141f019d99</td>\n",
       "      <td>fortaleza</td>\n",
       "      <td>CE</td>\n",
       "      <td>fed4434add09a6f332ea398efd656a5c</td>\n",
       "      <td>2018-04-08</td>\n",
       "      <td>1</td>\n",
       "      <td>56.04</td>\n",
       "    </tr>\n",
       "    <tr>\n",
       "      <th>99221</th>\n",
       "      <td>56b18e2166679b8a959d72dd06da27f9</td>\n",
       "      <td>73c2643a0a458b49f58cea58833b192e</td>\n",
       "      <td>canoas</td>\n",
       "      <td>RS</td>\n",
       "      <td>e31ec91cea1ecf97797787471f98a8c2</td>\n",
       "      <td>2017-11-03</td>\n",
       "      <td>5</td>\n",
       "      <td>711.07</td>\n",
       "    </tr>\n",
       "    <tr>\n",
       "      <th>99222</th>\n",
       "      <td>274fa6071e5e17fe303b9748641082c8</td>\n",
       "      <td>84732c5050c01db9b23e19ba39899398</td>\n",
       "      <td>cotia</td>\n",
       "      <td>SP</td>\n",
       "      <td>28db69209a75e59f20ccbb5c36a20b90</td>\n",
       "      <td>2017-12-19</td>\n",
       "      <td>5</td>\n",
       "      <td>21.77</td>\n",
       "    </tr>\n",
       "  </tbody>\n",
       "</table>\n",
       "<p>71197 rows × 8 columns</p>\n",
       "</div>"
      ],
      "text/plain": [
       "                            customer_id                customer_unique_id  \\\n",
       "0      06b8999e2fba1a1fbc88172c00ba8bc7  861eff4711a542e4b93843c6dd7febb0   \n",
       "1      18955e83d337fd6b2def6b18a428ac77  290c77bc529b7ac935b93aa66c333dc3   \n",
       "3      b2b6027bc5c5109e529d4dc6358b12c3  259dac757896d24d7702b9acbbff3f3c   \n",
       "5      879864dab9bc3047522c92c82e1212b8  4c93744516667ad3b8f1fb645a3116a4   \n",
       "6      fd826e7cf63160e536e0908c76c3f441  addec96d2e059c80c30fe6871d30d177   \n",
       "...                                 ...                               ...   \n",
       "99218  17ddf5dd5d51696bb3d7c6291687be6f  1a29b476fee25c95fbafc67c5ac95cf8   \n",
       "99219  e7b71a9017aa05c9a7fd292d714858e8  d52a67c98be1cf6a5c84435bd38d095d   \n",
       "99220  5e28dfe12db7fb50a4b2f691faecea5e  e9f50caf99f032f0bf3c55141f019d99   \n",
       "99221  56b18e2166679b8a959d72dd06da27f9  73c2643a0a458b49f58cea58833b192e   \n",
       "99222  274fa6071e5e17fe303b9748641082c8  84732c5050c01db9b23e19ba39899398   \n",
       "\n",
       "               customer_city customer_state                          order_id  \\\n",
       "0                     franca             SP  00e7ee1b050b8499577073aeb2a297a1   \n",
       "1      sao bernardo do campo             SP  29150127e6685892b6eab3eec79f59c7   \n",
       "3            mogi das cruzes             SP  951670f92359f4fe4a63112aa7306eba   \n",
       "5             jaragua do sul             SC  5741ea1f91b5fbab2bd2dc653a5b5099   \n",
       "6                  sao paulo             SP  36e694cf4cbc2a4803200c35e84abdc4   \n",
       "...                      ...            ...                               ...   \n",
       "99218              sao paulo             SP  6760e20addcf0121e9d58f2f1ff14298   \n",
       "99219        taboao da serra             SP  9ec0c8947d973db4f4e8dcf1fbfa8f1b   \n",
       "99220              fortaleza             CE  fed4434add09a6f332ea398efd656a5c   \n",
       "99221                 canoas             RS  e31ec91cea1ecf97797787471f98a8c2   \n",
       "99222                  cotia             SP  28db69209a75e59f20ccbb5c36a20b90   \n",
       "\n",
       "      order_purchase_timestamp  review_score  payment_value  \n",
       "0                   2017-05-16             4         146.87  \n",
       "1                   2018-01-12             5         335.48  \n",
       "3                   2018-03-13             5         173.30  \n",
       "5                   2017-09-14             5         282.21  \n",
       "6                   2018-02-19             5          22.77  \n",
       "...                        ...           ...            ...  \n",
       "99218               2018-04-07             4          88.78  \n",
       "99219               2018-04-04             5         129.06  \n",
       "99220               2018-04-08             1          56.04  \n",
       "99221               2017-11-03             5         711.07  \n",
       "99222               2017-12-19             5          21.77  \n",
       "\n",
       "[71197 rows x 8 columns]"
      ]
     },
     "execution_count": 125,
     "metadata": {},
     "output_type": "execute_result"
    }
   ],
   "source": [
    "df_full"
   ]
  },
  {
   "cell_type": "code",
   "execution_count": 126,
   "metadata": {},
   "outputs": [
    {
     "name": "stderr",
     "output_type": "stream",
     "text": [
      "/var/folders/hy/c34mqxh123lgnfptrbk38tjw0000gn/T/ipykernel_62022/2566686634.py:2: FutureWarning: The provided callable <built-in function min> is currently using SeriesGroupBy.min. In a future version of pandas, the provided callable will be used directly. To keep current behavior pass the string \"min\" instead.\n",
      "  min_max_date=df_full.groupby('customer_unique_id')['order_purchase_timestamp'].agg([min,max])\n",
      "/var/folders/hy/c34mqxh123lgnfptrbk38tjw0000gn/T/ipykernel_62022/2566686634.py:2: FutureWarning: The provided callable <built-in function max> is currently using SeriesGroupBy.max. In a future version of pandas, the provided callable will be used directly. To keep current behavior pass the string \"max\" instead.\n",
      "  min_max_date=df_full.groupby('customer_unique_id')['order_purchase_timestamp'].agg([min,max])\n"
     ]
    }
   ],
   "source": [
    "## months between first purchase and today\n",
    "min_max_date=df_full.groupby('customer_unique_id')['order_purchase_timestamp'].agg([min,max])\n",
    "min_max_date['max']=pd.to_datetime(min_max_date['max'])\n",
    "min_max_date['min']=pd.to_datetime(min_max_date['min'])\n",
    "today = pd.Timestamp(datetime.today())\n",
    "min_max_date['diff_first_today']=(today-min_max_date['min']).dt.days"
   ]
  },
  {
   "cell_type": "code",
   "execution_count": 127,
   "metadata": {},
   "outputs": [],
   "source": [
    "## months from first to last purchase\n",
    "min_max_date['diff_first_last']=(min_max_date['max']-min_max_date['min']).dt.days"
   ]
  },
  {
   "cell_type": "code",
   "execution_count": 128,
   "metadata": {},
   "outputs": [
    {
     "data": {
      "text/html": [
       "<div>\n",
       "<style scoped>\n",
       "    .dataframe tbody tr th:only-of-type {\n",
       "        vertical-align: middle;\n",
       "    }\n",
       "\n",
       "    .dataframe tbody tr th {\n",
       "        vertical-align: top;\n",
       "    }\n",
       "\n",
       "    .dataframe thead th {\n",
       "        text-align: right;\n",
       "    }\n",
       "</style>\n",
       "<table border=\"1\" class=\"dataframe\">\n",
       "  <thead>\n",
       "    <tr style=\"text-align: right;\">\n",
       "      <th></th>\n",
       "      <th>min</th>\n",
       "      <th>max</th>\n",
       "      <th>diff_first_today</th>\n",
       "      <th>diff_first_last</th>\n",
       "    </tr>\n",
       "    <tr>\n",
       "      <th>customer_unique_id</th>\n",
       "      <th></th>\n",
       "      <th></th>\n",
       "      <th></th>\n",
       "      <th></th>\n",
       "    </tr>\n",
       "  </thead>\n",
       "  <tbody>\n",
       "    <tr>\n",
       "      <th>0000f46a3911fa3c0805444483337064</th>\n",
       "      <td>2017-03-10</td>\n",
       "      <td>2017-03-10</td>\n",
       "      <td>2873</td>\n",
       "      <td>0</td>\n",
       "    </tr>\n",
       "    <tr>\n",
       "      <th>0000f6ccb0745a6a4b88665a16c9f078</th>\n",
       "      <td>2017-10-12</td>\n",
       "      <td>2017-10-12</td>\n",
       "      <td>2657</td>\n",
       "      <td>0</td>\n",
       "    </tr>\n",
       "    <tr>\n",
       "      <th>0004aac84e0df4da2b147fca70cf8255</th>\n",
       "      <td>2017-11-14</td>\n",
       "      <td>2017-11-14</td>\n",
       "      <td>2624</td>\n",
       "      <td>0</td>\n",
       "    </tr>\n",
       "    <tr>\n",
       "      <th>0004bd2a26a76fe21f786e4fbd80607f</th>\n",
       "      <td>2018-04-05</td>\n",
       "      <td>2018-04-05</td>\n",
       "      <td>2482</td>\n",
       "      <td>0</td>\n",
       "    </tr>\n",
       "    <tr>\n",
       "      <th>00050ab1314c0e55a6ca13cf7181fecf</th>\n",
       "      <td>2018-04-20</td>\n",
       "      <td>2018-04-20</td>\n",
       "      <td>2467</td>\n",
       "      <td>0</td>\n",
       "    </tr>\n",
       "    <tr>\n",
       "      <th>...</th>\n",
       "      <td>...</td>\n",
       "      <td>...</td>\n",
       "      <td>...</td>\n",
       "      <td>...</td>\n",
       "    </tr>\n",
       "    <tr>\n",
       "      <th>fffcc512b7dfecaffd80f13614af1d16</th>\n",
       "      <td>2018-04-11</td>\n",
       "      <td>2018-04-11</td>\n",
       "      <td>2476</td>\n",
       "      <td>0</td>\n",
       "    </tr>\n",
       "    <tr>\n",
       "      <th>fffcf5a5ff07b0908bd4e2dbc735a684</th>\n",
       "      <td>2017-06-08</td>\n",
       "      <td>2017-06-08</td>\n",
       "      <td>2783</td>\n",
       "      <td>0</td>\n",
       "    </tr>\n",
       "    <tr>\n",
       "      <th>fffea47cd6d3cc0a88bd621562a9d061</th>\n",
       "      <td>2017-12-10</td>\n",
       "      <td>2017-12-10</td>\n",
       "      <td>2598</td>\n",
       "      <td>0</td>\n",
       "    </tr>\n",
       "    <tr>\n",
       "      <th>ffff371b4d645b6ecea244b27531430a</th>\n",
       "      <td>2017-02-07</td>\n",
       "      <td>2017-02-07</td>\n",
       "      <td>2904</td>\n",
       "      <td>0</td>\n",
       "    </tr>\n",
       "    <tr>\n",
       "      <th>ffffd2657e2aad2907e67c3e9daecbeb</th>\n",
       "      <td>2017-05-02</td>\n",
       "      <td>2017-05-02</td>\n",
       "      <td>2820</td>\n",
       "      <td>0</td>\n",
       "    </tr>\n",
       "  </tbody>\n",
       "</table>\n",
       "<p>68409 rows × 4 columns</p>\n",
       "</div>"
      ],
      "text/plain": [
       "                                        min        max  diff_first_today  \\\n",
       "customer_unique_id                                                         \n",
       "0000f46a3911fa3c0805444483337064 2017-03-10 2017-03-10              2873   \n",
       "0000f6ccb0745a6a4b88665a16c9f078 2017-10-12 2017-10-12              2657   \n",
       "0004aac84e0df4da2b147fca70cf8255 2017-11-14 2017-11-14              2624   \n",
       "0004bd2a26a76fe21f786e4fbd80607f 2018-04-05 2018-04-05              2482   \n",
       "00050ab1314c0e55a6ca13cf7181fecf 2018-04-20 2018-04-20              2467   \n",
       "...                                     ...        ...               ...   \n",
       "fffcc512b7dfecaffd80f13614af1d16 2018-04-11 2018-04-11              2476   \n",
       "fffcf5a5ff07b0908bd4e2dbc735a684 2017-06-08 2017-06-08              2783   \n",
       "fffea47cd6d3cc0a88bd621562a9d061 2017-12-10 2017-12-10              2598   \n",
       "ffff371b4d645b6ecea244b27531430a 2017-02-07 2017-02-07              2904   \n",
       "ffffd2657e2aad2907e67c3e9daecbeb 2017-05-02 2017-05-02              2820   \n",
       "\n",
       "                                  diff_first_last  \n",
       "customer_unique_id                                 \n",
       "0000f46a3911fa3c0805444483337064                0  \n",
       "0000f6ccb0745a6a4b88665a16c9f078                0  \n",
       "0004aac84e0df4da2b147fca70cf8255                0  \n",
       "0004bd2a26a76fe21f786e4fbd80607f                0  \n",
       "00050ab1314c0e55a6ca13cf7181fecf                0  \n",
       "...                                           ...  \n",
       "fffcc512b7dfecaffd80f13614af1d16                0  \n",
       "fffcf5a5ff07b0908bd4e2dbc735a684                0  \n",
       "fffea47cd6d3cc0a88bd621562a9d061                0  \n",
       "ffff371b4d645b6ecea244b27531430a                0  \n",
       "ffffd2657e2aad2907e67c3e9daecbeb                0  \n",
       "\n",
       "[68409 rows x 4 columns]"
      ]
     },
     "execution_count": 128,
     "metadata": {},
     "output_type": "execute_result"
    }
   ],
   "source": [
    "min_max_date"
   ]
  },
  {
   "cell_type": "code",
   "execution_count": 129,
   "metadata": {},
   "outputs": [],
   "source": [
    "## recency of Sales \n",
    "max_date=df_full['order_purchase_timestamp'].max()\n",
    "\n",
    "min_max_date['recency'] = (np.datetime64(max_date)-min_max_date['max'])/np.timedelta64(1, 'm')"
   ]
  },
  {
   "cell_type": "code",
   "execution_count": 130,
   "metadata": {},
   "outputs": [],
   "source": [
    "## Frequency of Sales\n",
    "frequency=df_full.groupby('customer_unique_id')['order_id'].count().reset_index().rename(columns={'order_id':'frequency'})"
   ]
  },
  {
   "cell_type": "code",
   "execution_count": 131,
   "metadata": {},
   "outputs": [],
   "source": [
    "## joining all the engineered features\n",
    "dataset=pd.merge(tot_Amount,avg_review,on='customer_unique_id')\n",
    "dataset=pd.merge(dataset,min_max_date,on='customer_unique_id')\n",
    "dataset=pd.merge(dataset,frequency,on='customer_unique_id')\n",
    "dataset=pd.merge(dataset,df_full[['customer_unique_id','customer_city','customer_state']],on='customer_unique_id')\n",
    "dataset.drop(['min','max'],axis=1,inplace=True)"
   ]
  },
  {
   "cell_type": "code",
   "execution_count": 132,
   "metadata": {},
   "outputs": [],
   "source": [
    "from sklearn.preprocessing import StandardScaler,LabelEncoder,MinMaxScaler"
   ]
  },
  {
   "cell_type": "code",
   "execution_count": 133,
   "metadata": {},
   "outputs": [],
   "source": [
    "### label encoding city and state names\n",
    "encoder=LabelEncoder()\n",
    "dataset['customer_city']=encoder.fit_transform(dataset['customer_city'])\n",
    "dataset['customer_state']=encoder.fit_transform(dataset['customer_state'])"
   ]
  },
  {
   "cell_type": "code",
   "execution_count": 134,
   "metadata": {},
   "outputs": [],
   "source": [
    "##merging with the label dataset we have created \n",
    "dataset_full=dataset.merge(df_last_180[['customer_unique_id','purchased']],on='customer_unique_id')\n",
    "dataset_full.drop(columns='customer_unique_id',inplace=True)"
   ]
  },
  {
   "cell_type": "markdown",
   "metadata": {},
   "source": [
    "# Evaluating Machine learning models"
   ]
  },
  {
   "cell_type": "markdown",
   "metadata": {},
   "source": [
    "### we are going to do binary classification to predict whether a customer will purchase within the next 6 months Since this is a classification problem we use several models here , For comparing the models we use metrics like r2 score and accuracy score.\n"
   ]
  },
  {
   "cell_type": "markdown",
   "metadata": {},
   "source": [
    "1. Linear Regression\n",
    "2. Random Forest Classifier\n",
    "3. Extra Trees Classifier\n",
    "4. Gradient Boost Classifier\n",
    "5. K nearest nerighbour Classifier"
   ]
  },
  {
   "cell_type": "code",
   "execution_count": 135,
   "metadata": {},
   "outputs": [],
   "source": [
    "from sklearn.linear_model import LinearRegression\n",
    "from sklearn.ensemble import RandomForestClassifier,RandomForestRegressor\n",
    "from sklearn.ensemble import ExtraTreesClassifier\n",
    "from sklearn.ensemble import GradientBoostingClassifier\n",
    "from sklearn.svm import SVC\n",
    "from sklearn.neighbors import KNeighborsClassifier\n",
    "\n",
    "from sklearn.metrics import r2_score,accuracy_score,classification_report\n",
    "# Splitting data into training/testing\n",
    "from sklearn.model_selection import train_test_split,GridSearchCV"
   ]
  },
  {
   "cell_type": "code",
   "execution_count": 136,
   "metadata": {},
   "outputs": [],
   "source": [
    "##splitting to train and test dataset\n",
    "X_train,X_test,y_train,y_test=train_test_split(dataset_full.iloc[:,:-1],dataset_full.iloc[:,-1], test_size=0.2, random_state=31)"
   ]
  },
  {
   "cell_type": "code",
   "execution_count": 137,
   "metadata": {},
   "outputs": [],
   "source": [
    "## calculating gini scores for the models\n",
    "def Gini(y_true, y_pred):\n",
    "    # check and get number of samples\n",
    "    assert y_true.shape == y_pred.shape\n",
    "    n_samples = y_true.shape[0]\n",
    "    \n",
    "    # sort rows on prediction column \n",
    "    # (from largest to smallest)\n",
    "    arr = np.array([y_true, y_pred]).transpose()\n",
    "    true_order = arr[arr[:,0].argsort()][::-1,0]\n",
    "    pred_order = arr[arr[:,1].argsort()][::-1,0]\n",
    "    \n",
    "    # get Lorenz curves\n",
    "    L_true = np.cumsum(true_order) / np.sum(true_order)\n",
    "    L_pred = np.cumsum(pred_order) / np.sum(pred_order)\n",
    "    L_ones = np.linspace(1/n_samples, 1, n_samples)\n",
    "    \n",
    "    # get Gini coefficients (area between curves)\n",
    "    G_true = np.sum(L_ones - L_true)\n",
    "    G_pred = np.sum(L_ones - L_pred)\n",
    "    \n",
    "    # normalize to true Gini coefficient\n",
    "    return G_pred/G_true"
   ]
  },
  {
   "cell_type": "code",
   "execution_count": 138,
   "metadata": {},
   "outputs": [],
   "source": [
    "# Evaluate several ml models by training on training set and testing on testing set\n",
    "def evaluate(X_train, X_test, y_train, y_test):\n",
    "    # Names of models\n",
    "    model_name_list = ['Linear Regression',\n",
    "                      'Random Forest', 'Extra Trees',\n",
    "                       'Gradient Boosted','KNeighbors']\n",
    "\n",
    "    \n",
    "    # Instantiate the models\n",
    "    model1 = LinearRegression()\n",
    "    model3 = RandomForestClassifier(n_estimators=50)\n",
    "    model4 = ExtraTreesClassifier(n_estimators=50)\n",
    "    model6 = GradientBoostingClassifier(n_estimators=20)\n",
    "    model7= KNeighborsClassifier(n_neighbors = 5)\n",
    "    \n",
    "    # Dataframe for results\n",
    "    results = pd.DataFrame(columns=['r2', 'accuracy','gini'], index = model_name_list)\n",
    "    \n",
    "    # Train and predict with each model\n",
    "    for i, model in enumerate([model1, model3, model4, model6,model7]):\n",
    "   \n",
    "        model.fit(X_train, y_train)\n",
    "        predictions = model.predict(X_test)\n",
    "               \n",
    "        # Metrics\n",
    "        r2 = r2_score(y_test,predictions)\n",
    "        preds=np.where(predictions>0.5,1,0)\n",
    "        accuracy = accuracy_score(y_test,preds)\n",
    "        gini=Gini(y_test,preds)\n",
    "        \n",
    "        # Insert results into the dataframe\n",
    "        model_name = model_name_list[i]\n",
    "        results.loc[model_name, :] = [r2, accuracy,gini]\n",
    "    \n",
    "    return results"
   ]
  },
  {
   "cell_type": "code",
   "execution_count": 139,
   "metadata": {},
   "outputs": [],
   "source": [
    "results=evaluate(X_train, X_test, y_train, y_test)"
   ]
  },
  {
   "cell_type": "code",
   "execution_count": 140,
   "metadata": {},
   "outputs": [
    {
     "data": {
      "text/html": [
       "<div>\n",
       "<style scoped>\n",
       "    .dataframe tbody tr th:only-of-type {\n",
       "        vertical-align: middle;\n",
       "    }\n",
       "\n",
       "    .dataframe tbody tr th {\n",
       "        vertical-align: top;\n",
       "    }\n",
       "\n",
       "    .dataframe thead th {\n",
       "        text-align: right;\n",
       "    }\n",
       "</style>\n",
       "<table border=\"1\" class=\"dataframe\">\n",
       "  <thead>\n",
       "    <tr style=\"text-align: right;\">\n",
       "      <th></th>\n",
       "      <th>r2</th>\n",
       "      <th>accuracy</th>\n",
       "      <th>gini</th>\n",
       "    </tr>\n",
       "  </thead>\n",
       "  <tbody>\n",
       "    <tr>\n",
       "      <th>Linear Regression</th>\n",
       "      <td>0.047211</td>\n",
       "      <td>0.97692</td>\n",
       "      <td>0.00262</td>\n",
       "    </tr>\n",
       "    <tr>\n",
       "      <th>Random Forest</th>\n",
       "      <td>0.824282</td>\n",
       "      <td>0.996038</td>\n",
       "      <td>0.879507</td>\n",
       "    </tr>\n",
       "    <tr>\n",
       "      <th>Extra Trees</th>\n",
       "      <td>0.807547</td>\n",
       "      <td>0.995661</td>\n",
       "      <td>0.88838</td>\n",
       "    </tr>\n",
       "    <tr>\n",
       "      <th>Gradient Boosted</th>\n",
       "      <td>0.104676</td>\n",
       "      <td>0.979813</td>\n",
       "      <td>0.128741</td>\n",
       "    </tr>\n",
       "    <tr>\n",
       "      <th>KNeighbors</th>\n",
       "      <td>0.297129</td>\n",
       "      <td>0.984152</td>\n",
       "      <td>0.419302</td>\n",
       "    </tr>\n",
       "  </tbody>\n",
       "</table>\n",
       "</div>"
      ],
      "text/plain": [
       "                         r2  accuracy      gini\n",
       "Linear Regression  0.047211   0.97692   0.00262\n",
       "Random Forest      0.824282  0.996038  0.879507\n",
       "Extra Trees        0.807547  0.995661   0.88838\n",
       "Gradient Boosted   0.104676  0.979813  0.128741\n",
       "KNeighbors         0.297129  0.984152  0.419302"
      ]
     },
     "execution_count": 140,
     "metadata": {},
     "output_type": "execute_result"
    }
   ],
   "source": [
    "results"
   ]
  },
  {
   "cell_type": "markdown",
   "metadata": {},
   "source": [
    "### As r2 score reaches 1, the model is much capable of explaining the variance in purchase probability prediction of the customers. So Random Forest Classifier is the best classifier for the prediction.\n",
    "\n",
    "### The gini coefficient of the forest classifier and Extratrees classifier is closer to one, meaning there is inequality in the predicted values"
   ]
  }
 ],
 "metadata": {
  "kernelspec": {
   "display_name": "Python (tf_env)",
   "language": "python",
   "name": "tf_env"
  },
  "language_info": {
   "codemirror_mode": {
    "name": "ipython",
    "version": 3
   },
   "file_extension": ".py",
   "mimetype": "text/x-python",
   "name": "python",
   "nbconvert_exporter": "python",
   "pygments_lexer": "ipython3",
   "version": "3.10.16"
  }
 },
 "nbformat": 4,
 "nbformat_minor": 4
}
